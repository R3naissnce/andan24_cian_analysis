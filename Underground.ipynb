{
 "cells": [
  {
   "cell_type": "code",
   "execution_count": 62,
   "id": "initial_id",
   "metadata": {
    "collapsed": true,
    "ExecuteTime": {
     "end_time": "2024-06-02T17:35:05.155120800Z",
     "start_time": "2024-06-02T17:35:05.100815400Z"
    }
   },
   "outputs": [],
   "source": [
    "import cianparser\n",
    "import pandas as pd"
   ]
  },
  {
   "cell_type": "markdown",
   "source": [
    "Создадим датафрейм, который будет содержать в себе информацию о станциях метро, которые находятся внутри кольцевой линии."
   ],
   "metadata": {
    "collapsed": false
   },
   "id": "4d34b7bf6f07cccf"
  },
  {
   "cell_type": "code",
   "outputs": [],
   "source": [
    "df_stations_center = pd.DataFrame({'Central_stations': ['Киевская', 'Парк Культуры', 'Октябрьская', 'Добрынинская', 'Павелецкая', 'Таганская', 'Курская', 'Комсомольская', 'Проспект Мира', 'Достоевская', 'Новослободская', 'Белорусская', 'Краснопресненская', 'Смоленская', 'Арбатская', 'Александровский сад', 'Китай-город', 'Кузнецкий мост', 'Пушкинская', 'Маяковская', 'Тверская', 'Театральная', 'Новокузнецкая', 'Марксистская', 'Третьяковская', 'Полянка', 'Боровицкая', 'Цветной бульвар', 'Менделеевская', 'Трубная', 'Сретенский бульвар', 'Тургеневская', 'Сухаревская', 'Площадь трёх вокзалов', 'Красные ворота', 'Чистые пруды', 'Лубянка', 'Охотный ряд', 'Александровский сад', 'Библиотека им. Ленина', 'Кропоткинская','Смоленская', 'Площадь Революции', 'Чкаловская', 'Чеховская']})"
   ],
   "metadata": {
    "collapsed": false,
    "ExecuteTime": {
     "end_time": "2024-06-02T17:35:05.171552700Z",
     "start_time": "2024-06-02T17:35:05.162396500Z"
    }
   },
   "id": "b2b82149fbf95096",
   "execution_count": 63
  },
  {
   "cell_type": "markdown",
   "source": [
    "Проверим, что все станции были написаны так же, как и в Циане. Это делается нами из предположения о том, что некоторые станции могут быть отформатированы по-разному, например, иногда \"Охотный ряд\" может быть записан, как \"Охотный ряд\", а может и как \"Охотный Ряд\"."
   ],
   "metadata": {
    "collapsed": false
   },
   "id": "7b3d708d98a34d9"
  },
  {
   "cell_type": "code",
   "outputs": [],
   "source": [
    "central_stations_list = df_stations_center['Central_stations'].tolist()"
   ],
   "metadata": {
    "collapsed": false,
    "ExecuteTime": {
     "end_time": "2024-06-02T17:35:05.191240700Z",
     "start_time": "2024-06-02T17:35:05.173781800Z"
    }
   },
   "id": "d62b83966c00a0dc",
   "execution_count": 64
  },
  {
   "cell_type": "code",
   "outputs": [
    {
     "data": {
      "text/plain": "45"
     },
     "execution_count": 65,
     "metadata": {},
     "output_type": "execute_result"
    }
   ],
   "source": [
    "len(df_stations_center)"
   ],
   "metadata": {
    "collapsed": false,
    "ExecuteTime": {
     "end_time": "2024-06-02T17:35:05.205110Z",
     "start_time": "2024-06-02T17:35:05.182293100Z"
    }
   },
   "id": "85a833f4d7ad38f5",
   "execution_count": 65
  },
  {
   "cell_type": "code",
   "outputs": [],
   "source": [
    "stations_dict = cianparser.list_metro_stations()"
   ],
   "metadata": {
    "collapsed": false,
    "ExecuteTime": {
     "end_time": "2024-06-02T17:35:05.207231400Z",
     "start_time": "2024-06-02T17:35:05.189995700Z"
    }
   },
   "id": "4b4a457e588f371b",
   "execution_count": 66
  },
  {
   "cell_type": "code",
   "outputs": [],
   "source": [
    "stations_list1 = []\n",
    "condition_list = []"
   ],
   "metadata": {
    "collapsed": false,
    "ExecuteTime": {
     "end_time": "2024-06-02T17:35:05.208266200Z",
     "start_time": "2024-06-02T17:35:05.197017200Z"
    }
   },
   "id": "cfb7a40b753c4594",
   "execution_count": 67
  },
  {
   "cell_type": "code",
   "outputs": [],
   "source": [
    "for elem in stations_dict.values():\n",
    "    for line in elem:\n",
    "        stations_list1.append(line[0])"
   ],
   "metadata": {
    "collapsed": false,
    "ExecuteTime": {
     "end_time": "2024-06-02T17:35:05.226816900Z",
     "start_time": "2024-06-02T17:35:05.213037900Z"
    }
   },
   "id": "9d92cd5df13da48f",
   "execution_count": 68
  },
  {
   "cell_type": "markdown",
   "source": [
    "В датафрейм внесем данные о том, есть ли станция в общем списке станций метро. Если она есть, внесем значение 'yes', а если нет - 'no'."
   ],
   "metadata": {
    "collapsed": false
   },
   "id": "c386f48f646f812"
  },
  {
   "cell_type": "code",
   "outputs": [],
   "source": [
    "for station in central_stations_list:\n",
    "    if station in stations_list1:\n",
    "        condition_list.append('yes')\n",
    "    else:\n",
    "        condition_list.append('no')"
   ],
   "metadata": {
    "collapsed": false,
    "ExecuteTime": {
     "end_time": "2024-06-02T17:35:05.258456200Z",
     "start_time": "2024-06-02T17:35:05.229576Z"
    }
   },
   "id": "cc4590c7de2db34e",
   "execution_count": 70
  },
  {
   "cell_type": "code",
   "outputs": [],
   "source": [
    "df_stations_center['condition'] = condition_list\n"
   ],
   "metadata": {
    "collapsed": false,
    "ExecuteTime": {
     "end_time": "2024-06-02T17:35:05.258456200Z",
     "start_time": "2024-06-02T17:35:05.234223700Z"
    }
   },
   "id": "c3ca5d6a2d5839a7",
   "execution_count": 71
  },
  {
   "cell_type": "markdown",
   "source": [
    "Теперь посмотрим, сколько станций было записано неверно:"
   ],
   "metadata": {
    "collapsed": false
   },
   "id": "d9e47b84e9b66422"
  },
  {
   "cell_type": "code",
   "outputs": [
    {
     "data": {
      "text/plain": "0"
     },
     "execution_count": 72,
     "metadata": {},
     "output_type": "execute_result"
    }
   ],
   "source": [
    "df_stations_center[df_stations_center['condition'] == 'no'].shape[0]"
   ],
   "metadata": {
    "collapsed": false,
    "ExecuteTime": {
     "end_time": "2024-06-02T17:35:05.334364900Z",
     "start_time": "2024-06-02T17:35:05.261763800Z"
    }
   },
   "id": "de4eab72555b0380",
   "execution_count": 72
  },
  {
   "cell_type": "markdown",
   "source": [
    "Таким образом, нам удалось проверить, что все станции, которые были записаны нами в качестве станций, находящихся внутри кольцевой линии, написаны верно - так же, как и в Циане.\n",
    "<br> Сохраним данные о центральных станциях метро в csv файл. </br>"
   ],
   "metadata": {
    "collapsed": false
   },
   "id": "18a7249090a57197"
  },
  {
   "cell_type": "code",
   "outputs": [],
   "source": [
    "df_central_stations = df_stations_center['Central_stations']\n",
    "df_central_stations.to_csv('Central_stations.csv', index=False)"
   ],
   "metadata": {
    "collapsed": false,
    "ExecuteTime": {
     "end_time": "2024-06-02T17:46:29.250251200Z",
     "start_time": "2024-06-02T17:46:29.225367600Z"
    }
   },
   "id": "1e6a9afd75f8c14f",
   "execution_count": 76
  }
 ],
 "metadata": {
  "kernelspec": {
   "display_name": "Python 3",
   "language": "python",
   "name": "python3"
  },
  "language_info": {
   "codemirror_mode": {
    "name": "ipython",
    "version": 2
   },
   "file_extension": ".py",
   "mimetype": "text/x-python",
   "name": "python",
   "nbconvert_exporter": "python",
   "pygments_lexer": "ipython2",
   "version": "2.7.6"
  }
 },
 "nbformat": 4,
 "nbformat_minor": 5
}
