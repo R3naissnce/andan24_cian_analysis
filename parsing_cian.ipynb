{
 "cells": [
  {
   "cell_type": "markdown",
   "source": [
    "\n",
    "<center>\n",
    "<img src=\"https://tvernews.ru/uploads/Ua1YIkaptmlh64ChQj9RqviAQaCH7C.jpg\" height=\"300\">\n",
    "\n",
    "# Групповой проект по анализу данных\n",
    "</center>\n"
   ],
   "metadata": {
    "collapsed": false
   },
   "id": "d8967d16de38ba7a"
  },
  {
   "cell_type": "markdown",
   "source": [
    "### Часть 2: Сбор данных\n",
    "В качестве источника данных о квартирах в Москве мы выбрали Циан. Парсинг с Циана был осуществлен нами с помощью готовой библиотеки Cianparser (https://github.com/lenarsaitov/cianparser).\n",
    "\n",
    "В настоящем проекте нами будут рассмотрены квартиры в Москве, содержащие 1, 2, либо 3 комнаты. Помимо основных характерийстик нас заинтересовал факт наличия лоджии в квартирах, поэтому, используя дополнительные настройки поиска, мы сначала выгрузили данные о квартирах с лоджией, а после в другой csv-файл - о квартирах без лоджии. В последствии файлы будут объединены новым категориальным признаком и обработаны.\n"
   ],
   "metadata": {
    "collapsed": false
   },
   "id": "74a1e26a0e494f92"
  },
  {
   "cell_type": "code",
   "outputs": [],
   "source": [
    "import cianparser\n",
    "import pandas as pd"
   ],
   "metadata": {
    "collapsed": false,
    "ExecuteTime": {
     "end_time": "2024-05-09T20:07:28.631273600Z",
     "start_time": "2024-05-09T20:07:28.374854Z"
    }
   },
   "id": "bda45a499362ba82",
   "execution_count": 4
  },
  {
   "cell_type": "code",
   "outputs": [],
   "source": [
    "moscow_parser = cianparser.CianParser(location=\"Москва\")"
   ],
   "metadata": {
    "collapsed": false,
    "ExecuteTime": {
     "end_time": "2024-05-10T22:01:13.694989Z",
     "start_time": "2024-05-10T22:01:13.579101Z"
    }
   },
   "id": "e73f2d63bf831116",
   "execution_count": 66
  },
  {
   "cell_type": "markdown",
   "source": [
    "Библиотека cianparser имеет ограничение на загрузку списков объявлений лишь до 54 страницы включительно, что примерно 28 * 54 = 1512 объявлений. Чтобы увеличить количество наблюдений, мы сузим наши запросы, а именно запросим не сразу информацию по квартирам с 1, 2 и 3 комнатами, а сначала спарсим данные только об однокомнатных квартирах с 54 страниц, потом - только о двухкомнатных квартирах и после - только о трехкомнатных."
   ],
   "metadata": {
    "collapsed": false
   },
   "id": "59e3164ff9eea808"
  },
  {
   "cell_type": "code",
   "outputs": [
    {
     "name": "stdout",
     "output_type": "stream",
     "text": [
      "\n",
      "                              Preparing to collect information from pages..\n",
      "The page from which the collection of information begins: \n",
      " https://cian.ru/cat.php?engine_version=2&p=1&with_neighbors=0&region=1&deal_type=sale&offer_type=flat&room1=1\n",
      "\n",
      "Collecting information from pages with list of offers\n",
      " 1 | 1 page with list: [=>=>=>=>=>=>=>=>=>=>=>=>=>=>=>=>=>=>=>=>=>=>=>=>=>=>=>=>] 100% | Count of all parsed: 28. Progress ratio: 2 %. Average price: 259 950 071 rub\r\n",
      " 2 | 2 page with list: [=>=>=>=>=>=>=>=>=>=>=>=>=>=>=>=>=>=>=>=>=>=>=>=>=>=>=>=>] 100% | Count of all parsed: 56. Progress ratio: 4 %. Average price: 287 635 362 rub\r\n",
      " 3 | 3 page with list: [=>=>=>=>=>=>=>=>=>=>=>=>=>=>=>=>=>=>=>=>=>=>=>=>=>=>=>=>] 100% | Count of all parsed: 84. Progress ratio: 6 %. Average price: 294 669 143 rub\r\n",
      " 4 | 4 page with list: [=>=>=>=>=>=>=>=>=>=>=>=>=>=>=>=>=>=>=>=>=>=>=>=>=>=>=>=>] 100% | Count of all parsed: 112. Progress ratio: 8 %. Average price: 299 933 497 rub\r\n",
      " 5 | 5 page with list: [=>=>=>=>=>=>=>=>=>=>=>=>=>=>=>=>=>=>=>=>=>=>=>=>=>=>=>=>] 100% | Count of all parsed: 140. Progress ratio: 9 %. Average price: 304 494 761 rub\r\n",
      " 6 | 6 page with list: [=>=>=>=>=>=>=>=>=>=>=>=>=>=>=>=>=>=>=>=>=>=>=>=>=>=>=>=>] 100% | Count of all parsed: 168. Progress ratio: 11 %. Average price: 306 852 190 rub\r\n",
      " 7 | 7 page with list: [=>=>=>=>=>=>=>=>=>=>=>=>=>=>=>=>=>=>=>=>=>=>=>=>=>=>=>=>] 100% | Count of all parsed: 196. Progress ratio: 13 %. Average price: 308 503 381 rub\r\n",
      " 8 | 8 page with list: [=>=>=>=>=>=>=>=>=>=>=>=>=>=>=>=>=>=>=>=>=>=>=>=>=>=>=>=>] 100% | Count of all parsed: 224. Progress ratio: 15 %. Average price: 310 713 527 rub\r\n",
      " 9 | 9 page with list: [=>=>=>=>=>=>=>=>=>=>=>=>=>=>=>=>=>=>=>=>=>=>=>=>=>=>=>=>] 100% | Count of all parsed: 252. Progress ratio: 17 %. Average price: 313 981 848 rub\r\n",
      " 10 | 10 page with list: [=>=>=>=>=>=>=>=>=>=>=>=>=>=>=>=>=>=>=>=>=>=>=>=>=>=>=>=>] 100% | Count of all parsed: 280. Progress ratio: 18 %. Average price: 318 073 610 rub\r\n",
      " 11 | 11 page with list: [=>=>=>=>=>=>=>=>=>=>=>=>=>=>=>=>=>=>=>=>=>=>=>=>=>=>=>=>] 100% | Count of all parsed: 308. Progress ratio: 20 %. Average price: 323 565 346 rub\r\n",
      " 12 | 12 page with list: [=>=>=>=>=>=>=>=>=>=>=>=>=>=>=>=>=>=>=>=>=>=>=>=>=>=>=>=>] 100% | Count of all parsed: 336. Progress ratio: 22 %. Average price: 328 740 280 rub\r\n",
      " 13 | 13 page with list: [=>=>=>=>=>=>=>=>=>=>=>=>=>=>=>=>=>=>=>=>=>=>=>=>=>=>=>=>] 100% | Count of all parsed: 364. Progress ratio: 24 %. Average price: 333 152 123 rub\r\n",
      " 14 | 14 page with list: [=>=>=>=>=>=>=>=>=>=>=>=>=>=>=>=>=>=>=>=>=>=>=>=>=>=>=>=>] 100% | Count of all parsed: 392. Progress ratio: 25 %. Average price: 335 085 126 rub\r\n",
      " 15 | 15 page with list: [=>=>=>=>=>=>=>=>=>=>=>=>=>=>=>=>=>=>=>=>=>=>=>=>=>=>=>=>] 100% | Count of all parsed: 420. Progress ratio: 27 %. Average price: 336 231 375 rub\r\n",
      " 16 | 16 page with list: [=>=>=>=>=>=>=>=>=>=>=>=>=>=>=>=>=>=>=>=>=>=>=>=>=>=>=>=>] 100% | Count of all parsed: 446. Progress ratio: 29 %. Average price: 336 873 685 rub\r\n",
      " 17 | 17 page with list: [=>=>=>=>=>=>=>=>=>=>=>=>=>=>=>=>=>=>=>=>=>=>=>=>=>=>=>=>] 100% | Count of all parsed: 471. Progress ratio: 31 %. Average price: 337 478 774 rub\r\n",
      " 18 | 18 page with list: [=>=>=>=>=>=>=>=>=>=>=>=>=>=>=>=>=>=>=>=>=>=>=>=>=>=>=>=>] 100% | Count of all parsed: 497. Progress ratio: 32 %. Average price: 338 109 751 rub\r\n",
      " 19 | 19 page with list: [=>=>=>=>=>=>=>=>=>=>=>=>=>=>=>=>=>=>=>=>=>=>=>=>=>=>=>=>] 100% | Count of all parsed: 521. Progress ratio: 34 %. Average price: 338 690 985 rub\r\n",
      " 20 | 20 page with list: [=>=>=>=>=>=>=>=>=>=>=>=>=>=>=>=>=>=>=>=>=>=>=>=>=>=>=>=>] 100% | Count of all parsed: 546. Progress ratio: 35 %. Average price: 339 310 591 rub\r\n",
      " 21 | 21 page with list: [=>=>=>=>=>=>=>=>=>=>=>=>=>=>=>=>=>=>=>=>=>=>=>=>=>=>=>=>] 100% | Count of all parsed: 570. Progress ratio: 37 %. Average price: 339 915 609 rub\r\n",
      " 22 | 22 page with list: [=>=>=>=>=>=>=>=>=>=>=>=>=>=>=>=>=>=>=>=>=>=>=>=>=>=>=>=>] 100% | Count of all parsed: 595. Progress ratio: 38 %. Average price: 340 538 953 rub\r\n",
      " 23 | 23 page with list: [=>=>=>=>=>=>=>=>=>=>=>=>=>=>=>=>=>=>=>=>=>=>=>=>=>=>=>=>] 100% | Count of all parsed: 619. Progress ratio: 40 %. Average price: 341 165 431 rub\r\n",
      " 24 | 24 page with list: [=>=>=>=>=>=>=>=>=>=>=>=>=>=>=>=>=>=>=>=>=>=>=>=>=>=>=>=>] 100% | Count of all parsed: 644. Progress ratio: 42 %. Average price: 341 837 663 rub\r\n",
      " 25 | 25 page with list: [=>=>=>=>=>=>=>=>=>=>=>=>=>=>=>=>=>=>=>=>=>=>=>=>=>=>=>=>] 100% | Count of all parsed: 670. Progress ratio: 43 %. Average price: 342 532 472 rub\r\n",
      " 26 | 26 page with list: [=>=>=>=>=>=>=>=>=>=>=>=>=>=>=>=>=>=>=>=>=>=>=>=>=>=>=>=>] 100% | Count of all parsed: 697. Progress ratio: 45 %. Average price: 343 329 663 rub\r\n",
      " 27 | 27 page with list: [=>=>=>=>=>=>=>=>=>=>=>=>=>=>=>=>=>=>=>=>=>=>=>=>=>=>=>=>] 100% | Count of all parsed: 722. Progress ratio: 47 %. Average price: 344 024 766 rub\r\n",
      " 28 | 28 page with list: [=>=>=>=>=>=>=>=>=>=>=>=>=>=>=>=>=>=>=>=>=>=>=>=>=>=>=>=>] 100% | Count of all parsed: 748. Progress ratio: 48 %. Average price: 344 770 455 rub\r\n",
      " 29 | 29 page with list: [=>=>=>=>=>=>=>=>=>=>=>=>=>=>=>=>=>=>=>=>=>=>=>=>=>=>=>=>] 100% | Count of all parsed: 770. Progress ratio: 50 %. Average price: 345 479 874 rub\r\n",
      " 30 | 30 page with list: [=>=>=>=>=>=>=>=>=>=>=>=>=>=>=>=>=>=>=>=>=>=>=>=>=>=>=>=>] 100% | Count of all parsed: 795. Progress ratio: 51 %. Average price: 346 306 009 rub\r\n",
      " 31 | 31 page with list: [=>=>=>=>=>=>=>=>=>=>=>=>=>=>=>=>=>=>=>=>=>=>=>=>=>=>=>=>] 100% | Count of all parsed: 822. Progress ratio: 53 %. Average price: 347 377 081 rub\r\n",
      " 32 | 32 page with list: [=>=>=>=>=>=>=>=>=>=>=>=>=>=>=>=>=>=>=>=>=>=>=>=>=>=>=>=>] 100% | Count of all parsed: 844. Progress ratio: 54 %. Average price: 348 718 013 rub\r\n",
      " 33 | 33 page with list: [=>=>=>=>=>=>=>=>=>=>=>=>=>=>=>=>=>=>=>=>=>=>=>=>=>=>=>=>] 100% | Count of all parsed: 860. Progress ratio: 55 %. Average price: 349 826 168 rub\r\n",
      " 34 | 34 page with list: [=>=>=>=>=>=>=>=>=>=>=>=>=>=>=>=>=>=>=>=>=>=>=>=>=>=>=>=>] 100% | Count of all parsed: 888. Progress ratio: 57 %. Average price: 350 022 222 rub\r\n",
      " 35 | 35 page with list: [=>=>=>=>=>=>=>=>=>=>=>=>=>=>=>=>=>=>=>=>=>=>=>=>=>=>=>=>] 100% | Count of all parsed: 916. Progress ratio: 59 %. Average price: 350 234 327 rub\r\n",
      " 36 | 36 page with list: [=>=>=>=>=>=>=>=>=>=>=>=>=>=>=>=>=>=>=>=>=>=>=>=>=>=>=>=>] 100% | Count of all parsed: 944. Progress ratio: 61 %. Average price: 350 451 867 rub\r\n",
      " 37 | 37 page with list: [=>=>=>=>=>=>=>=>=>=>=>=>=>=>=>=>=>=>=>=>=>=>=>=>=>=>=>=>] 100% | Count of all parsed: 972. Progress ratio: 62 %. Average price: 350 670 645 rub\r\n",
      " 38 | 38 page with list: [=>=>=>=>=>=>=>=>=>=>=>=>=>=>=>=>=>=>=>=>=>=>=>=>=>=>=>=>] 100% | Count of all parsed: 1000. Progress ratio: 64 %. Average price: 350 889 501 rub\r\n",
      " 39 | 39 page with list: [=>=>=>=>=>=>=>=>=>=>=>=>=>=>=>=>=>=>=>=>=>=>=>=>=>=>=>=>] 100% | Count of all parsed: 1028. Progress ratio: 66 %. Average price: 351 108 471 rub\r\n",
      " 40 | 40 page with list: [=>=>=>=>=>=>=>=>=>=>=>=>=>=>=>=>=>=>=>=>=>=>=>=>=>=>=>=>] 100% | Count of all parsed: 1056. Progress ratio: 68 %. Average price: 351 325 647 rub\r\n",
      " 41 | 41 page with list: [=>=>=>=>=>=>=>=>=>=>=>=>=>=>=>=>=>=>=>=>=>=>=>=>=>=>=>=>] 100% | Count of all parsed: 1084. Progress ratio: 70 %. Average price: 351 540 749 rub\r\n",
      " 42 | 42 page with list: [=>=>=>=>=>=>=>=>=>=>=>=>=>=>=>=>=>=>=>=>=>=>=>=>=>=>=>=>] 100% | Count of all parsed: 1112. Progress ratio: 71 %. Average price: 351 753 517 rub\r\n",
      " 43 | 43 page with list: [=>=>=>=>=>=>=>=>=>=>=>=>=>=>=>=>=>=>=>=>=>=>=>=>=>=>=>=>] 100% | Count of all parsed: 1140. Progress ratio: 73 %. Average price: 351 964 481 rub\r\n",
      " 44 | 44 page with list: [=>=>=>=>=>=>=>=>=>=>=>=>=>=>=>=>=>=>=>=>=>=>=>=>=>=>=>=>] 100% | Count of all parsed: 1168. Progress ratio: 75 %. Average price: 352 172 457 rub\r\n",
      " 45 | 45 page with list: [=>=>=>=>=>=>=>=>=>=>=>=>=>=>=>=>=>=>=>=>=>=>=>=>=>=>=>=>] 100% | Count of all parsed: 1196. Progress ratio: 77 %. Average price: 352 378 044 rub\r\n",
      " 46 | 46 page with list: [=>=>=>=>=>=>=>=>=>=>=>=>=>=>=>=>=>=>=>=>=>=>=>=>=>=>=>=>] 100% | Count of all parsed: 1224. Progress ratio: 79 %. Average price: 352 581 064 rub\r\n",
      " 47 | 47 page with list: [=>=>=>=>=>=>=>=>=>=>=>=>=>=>=>=>=>=>=>=>=>=>=>=>=>=>=>=>] 100% | Count of all parsed: 1252. Progress ratio: 80 %. Average price: 352 782 252 rub\r\n",
      " 48 | 48 page with list: [=>=>=>=>=>=>=>=>=>=>=>=>=>=>=>=>=>=>=>=>=>=>=>=>=>=>=>=>] 100% | Count of all parsed: 1280. Progress ratio: 82 %. Average price: 352 982 105 rub\r\n",
      " 49 | 49 page with list: [=>=>=>=>=>=>=>=>=>=>=>=>=>=>=>=>=>=>=>=>=>=>=>=>=>=>=>=>] 100% | Count of all parsed: 1308. Progress ratio: 84 %. Average price: 353 180 184 rub\r\n",
      " 50 | 50 page with list: [=>=>=>=>=>=>=>=>=>=>=>=>=>=>=>=>=>=>=>=>=>=>=>=>=>=>=>=>] 100% | Count of all parsed: 1336. Progress ratio: 86 %. Average price: 353 376 506 rub\r\n",
      " 51 | 51 page with list: [=>=>=>=>=>=>=>=>=>=>=>=>=>=>=>=>=>=>=>=>=>=>=>=>=>=>=>=>] 100% | Count of all parsed: 1364. Progress ratio: 87 %. Average price: 353 570 869 rub\r\n",
      " 52 | 52 page with list: [=>=>=>=>=>=>=>=>=>=>=>=>=>=>=>=>=>=>=>=>=>=>=>=>=>=>=>=>] 100% | Count of all parsed: 1392. Progress ratio: 89 %. Average price: 353 763 842 rub\r\n",
      " 53 | 53 page with list: [=>=>=>=>=>=>=>=>=>=>=>=>=>=>=>=>=>=>=>=>=>=>=>=>=>=>=>=>] 100% | Count of all parsed: 1420. Progress ratio: 91 %. Average price: 353 953 945 rub\r\n",
      " 54 | 54 page with list: [=>=>=>=>=>=>=>=>=>=>=>=>=>=>=>=>=>=>=>=>=>=>=>=>=>] 100% | Count of all parsed: 1441. Progress ratio: 103 %. Average price: 354 094 258 rub\r\n",
      "\n",
      "Exception: 429 Client Error: Too Many Requests for url: https://www.cian.ru/cat.php?deal_type=sale&engine_version=2&offer_type=flat&p=1&region=1&room1=1&with_neighbors=0\n",
      "The collection of information from the pages with ending parse on 55 page...\n",
      "\n",
      " 56 | 56 page with list: [=>=>=>=>=>=>=>=>=>=>=>=>=>=>=>=>=>=>=>=>=>=>=>=>=>=>=>=>] 100% | Count of all parsed: 1441. Progress ratio: 92 %. Average price: 354 094 258 rub\r\n",
      "\n",
      "The collection of information from the pages with list of offers is completed\n",
      "Total number of parsed offers: 1441. \n"
     ]
    }
   ],
   "source": [
    "data_nolog_1 = moscow_parser.get_flats(\n",
    "    deal_type=\"sale\",\n",
    "    rooms = 1,\n",
    "    additional_settings={\n",
    "        \"start_page\":1,\n",
    "        \"end_page\": 56,\n",
    "        \"have_loggia\": False\n",
    "    }\n",
    ")"
   ],
   "metadata": {
    "collapsed": false,
    "ExecuteTime": {
     "end_time": "2024-05-10T18:47:05.825955100Z",
     "start_time": "2024-05-10T18:37:36.477337800Z"
    }
   },
   "id": "67f2942655b8ccd6",
   "execution_count": 52
  },
  {
   "cell_type": "code",
   "outputs": [
    {
     "name": "stdout",
     "output_type": "stream",
     "text": [
      "\n",
      "                              Preparing to collect information from pages..\n",
      "The page from which the collection of information begins: \n",
      " https://cian.ru/cat.php?engine_version=2&p=1&with_neighbors=0&region=1&deal_type=sale&offer_type=flat&room2=1\n",
      "\n",
      "Collecting information from pages with list of offers\n",
      " 1 | 1 page with list: [=>=>=>=>=>=>=>=>=>=>=>=>=>=>=>=>=>=>=>=>=>=>=>=>=>=>=>=>] 100% | Count of all parsed: 28. Progress ratio: 2 %. Average price: 355 381 122 rub\r\n",
      " 2 | 2 page with list: [=>=>=>=>=>=>=>=>=>=>=>=>=>=>=>=>=>=>=>=>=>=>=>=>=>=>=>=>] 100% | Count of all parsed: 56. Progress ratio: 4 %. Average price: 411 573 936 rub\r\n",
      " 3 | 3 page with list: [=>=>=>=>=>=>=>=>=>=>=>=>=>=>=>=>=>=>=>=>=>=>=>=>=>=>=>=>] 100% | Count of all parsed: 84. Progress ratio: 6 %. Average price: 429 691 889 rub\r\n",
      " 4 | 4 page with list: [=>=>=>=>=>=>=>=>=>=>=>=>=>=>=>=>=>=>=>=>=>=>=>=>=>=>=>=>] 100% | Count of all parsed: 112. Progress ratio: 8 %. Average price: 444 225 065 rub\r\n",
      " 5 | 5 page with list: [=>=>=>=>=>=>=>=>=>=>=>=>=>=>=>=>=>=>=>=>=>=>=>=>=>=>=>=>] 100% | Count of all parsed: 139. Progress ratio: 9 %. Average price: 453 581 544 rub\r\n",
      " 6 | 6 page with list: [=>=>=>=>=>=>=>=>=>=>=>=>=>=>=>=>=>=>=>=>=>=>=>=>=>=>=>=>] 100% | Count of all parsed: 167. Progress ratio: 11 %. Average price: 458 367 612 rub\r\n",
      " 7 | 7 page with list: [=>=>=>=>=>=>=>=>=>=>=>=>=>=>=>=>=>=>=>=>=>=>=>=>=>=>=>=>] 100% | Count of all parsed: 195. Progress ratio: 13 %. Average price: 465 005 508 rub\r\n",
      " 8 | 8 page with list: [=>=>=>=>=>=>=>=>=>=>=>=>=>=>=>=>=>=>=>=>=>=>=>=>=>=>=>=>] 100% | Count of all parsed: 223. Progress ratio: 15 %. Average price: 469 076 511 rub\r\n",
      " 9 | 9 page with list: [=>=>=>=>=>=>=>=>=>=>=>=>=>=>=>=>=>=>=>=>=>=>=>=>=>=>=>=>] 100% | Count of all parsed: 251. Progress ratio: 17 %. Average price: 472 042 844 rub\r\n",
      " 10 | 10 page with list: [=>=>=>=>=>=>=>=>=>=>=>=>=>=>=>=>=>=>=>=>=>=>=>=>=>=>=>=>] 100% | Count of all parsed: 278. Progress ratio: 18 %. Average price: 474 611 873 rub\r\n",
      " 11 | 11 page with list: [=>=>=>=>=>=>=>=>=>=>=>=>=>=>=>=>=>=>=>=>=>=>=>=>=>=>=>=>] 100% | Count of all parsed: 306. Progress ratio: 20 %. Average price: 478 497 631 rub\r\n",
      " 12 | 12 page with list: [=>=>=>=>=>=>=>=>=>=>=>=>=>=>=>=>=>=>=>=>=>=>=>=>=>=>=>=>] 100% | Count of all parsed: 334. Progress ratio: 22 %. Average price: 482 856 846 rub\r\n",
      " 13 | 13 page with list: [=>=>=>=>=>=>=>=>=>=>=>=>=>=>=>=>=>=>=>=>=>=>=>=>=>=>=>=>] 100% | Count of all parsed: 362. Progress ratio: 24 %. Average price: 486 410 923 rub\r\n",
      " 14 | 14 page with list: [=>=>=>=>=>=>=>=>=>=>=>=>=>=>=>=>=>=>=>=>=>=>=>=>=>=>=>=>] 100% | Count of all parsed: 389. Progress ratio: 25 %. Average price: 492 177 921 rub\r\n",
      " 15 | 15 page with list: [=>=>=>=>=>=>=>=>=>=>=>=>=>=>=>=>=>=>=>=>=>=>=>=>=>=>=>=>] 100% | Count of all parsed: 417. Progress ratio: 27 %. Average price: 496 803 011 rub\r\n",
      " 16 | 16 page with list: [=>=>=>=>=>=>=>=>=>=>=>=>=>=>=>=>=>=>=>=>=>=>=>=>=>=>=>=>] 100% | Count of all parsed: 445. Progress ratio: 29 %. Average price: 498 318 214 rub\r\n",
      " 17 | 17 page with list: [=>=>=>=>=>=>=>=>=>=>=>=>=>=>=>=>=>=>=>=>=>=>=>=>=>=>=>=>] 100% | Count of all parsed: 473. Progress ratio: 31 %. Average price: 501 762 404 rub\r\n",
      " 18 | 18 page with list: [=>=>=>=>=>=>=>=>=>=>=>=>=>=>=>=>=>=>=>=>=>=>=>=>=>=>=>=>] 100% | Count of all parsed: 501. Progress ratio: 32 %. Average price: 503 391 915 rub\r\n",
      " 19 | 19 page with list: [=>=>=>=>=>=>=>=>=>=>=>=>=>=>=>=>=>=>=>=>=>=>=>=>=>=>=>=>] 100% | Count of all parsed: 529. Progress ratio: 34 %. Average price: 505 397 949 rub\r\n",
      " 20 | 20 page with list: [=>=>=>=>=>=>=>=>=>=>=>=>=>=>=>=>=>=>=>=>=>=>=>=>=>=>=>=>] 100% | Count of all parsed: 556. Progress ratio: 36 %. Average price: 506 984 321 rub\r\n",
      " 21 | 21 page with list: [=>=>=>=>=>=>=>=>=>=>=>=>=>=>=>=>=>=>=>=>=>=>=>=>=>=>=>=>] 100% | Count of all parsed: 579. Progress ratio: 37 %. Average price: 507 935 542 rub\r\n",
      " 22 | 22 page with list: [=>=>=>=>=>=>=>=>=>=>=>=>=>=>=>=>=>=>=>=>=>=>=>=>=>=>=>=>] 100% | Count of all parsed: 606. Progress ratio: 39 %. Average price: 508 421 490 rub\r\n",
      " 23 | 23 page with list: [=>=>=>=>=>=>=>=>=>=>=>=>=>=>=>=>=>=>=>=>=>=>=>=>=>=>=>=>] 100% | Count of all parsed: 633. Progress ratio: 41 %. Average price: 508 935 138 rub\r\n",
      " 24 | 24 page with list: [=>=>=>=>=>=>=>=>=>=>=>=>=>=>=>=>=>=>=>=>=>=>=>=>=>=>=>=>] 100% | Count of all parsed: 659. Progress ratio: 43 %. Average price: 509 437 116 rub\r\n",
      " 25 | 25 page with list: [=>=>=>=>=>=>=>=>=>=>=>=>=>=>=>=>=>=>=>=>=>=>=>=>=>=>=>=>] 100% | Count of all parsed: 687. Progress ratio: 44 %. Average price: 509 980 366 rub\r\n",
      " 26 | 26 page with list: [=>=>=>=>=>=>=>=>=>=>=>=>=>=>=>=>=>=>=>=>=>=>=>=>=>=>=>=>] 100% | Count of all parsed: 714. Progress ratio: 46 %. Average price: 510 506 384 rub\r\n",
      " 27 | 27 page with list: [=>=>=>=>=>=>=>=>=>=>=>=>=>=>=>=>=>=>=>=>=>=>=>=>=>=>=>=>] 100% | Count of all parsed: 741. Progress ratio: 48 %. Average price: 511 036 235 rub\r\n",
      " 28 | 28 page with list: [=>=>=>=>=>=>=>=>=>=>=>=>=>=>=>=>=>=>=>=>=>=>=>=>=>=>=>=>] 100% | Count of all parsed: 769. Progress ratio: 50 %. Average price: 511 585 860 rub\r\n",
      " 29 | 29 page with list: [=>=>=>=>=>=>=>=>=>=>=>=>=>=>=>=>=>=>=>=>=>=>=>=>=>=>=>=>] 100% | Count of all parsed: 796. Progress ratio: 51 %. Average price: 512 123 673 rub\r\n",
      " 30 | 30 page with list: [=>=>=>=>=>=>=>=>=>=>=>=>=>=>=>=>=>=>=>=>=>=>=>=>=>=>=>=>] 100% | Count of all parsed: 822. Progress ratio: 53 %. Average price: 512 647 569 rub\r\n",
      " 31 | 31 page with list: [=>=>=>=>=>=>=>=>=>=>=>=>=>=>=>=>=>=>=>=>=>=>=>=>=>=>=>=>] 100% | Count of all parsed: 847. Progress ratio: 55 %. Average price: 513 132 667 rub\r\n",
      " 32 | 32 page with list: [=>=>=>=>=>=>=>=>=>=>=>=>=>=>=>=>=>=>=>=>=>=>=>=>=>=>=>=>] 100% | Count of all parsed: 873. Progress ratio: 56 %. Average price: 513 662 469 rub\r\n",
      " 33 | 33 page with list: [=>=>=>=>=>=>=>=>=>=>=>=>=>=>=>=>=>=>=>=>=>=>=>=>=>=>=>=>] 100% | Count of all parsed: 898. Progress ratio: 58 %. Average price: 514 158 346 rub\r\n",
      " 34 | 34 page with list: [=>=>=>=>=>=>=>=>=>=>=>=>=>=>=>=>=>=>=>=>=>=>=>=>=>=>=>=>] 100% | Count of all parsed: 923. Progress ratio: 59 %. Average price: 514 667 966 rub\r\n",
      " 35 | 35 page with list: [=>=>=>=>=>=>=>=>=>=>=>=>=>=>=>=>=>=>=>=>=>=>=>=>=>=>=>=>] 100% | Count of all parsed: 950. Progress ratio: 61 %. Average price: 515 267 411 rub\r\n",
      " 36 | 36 page with list: [=>=>=>=>=>=>=>=>=>=>=>=>=>=>=>=>=>=>=>=>=>=>=>=>=>=>=>=>] 100% | Count of all parsed: 975. Progress ratio: 63 %. Average price: 515 824 616 rub\r\n",
      " 37 | 37 page with list: [=>=>=>=>=>=>=>=>=>=>=>=>=>=>=>=>=>=>=>=>=>=>=>=>=>=>=>=>] 100% | Count of all parsed: 999. Progress ratio: 64 %. Average price: 516 352 297 rub\r\n",
      " 38 | 38 page with list: [=>=>=>=>=>=>=>=>=>=>=>=>=>=>=>=>=>=>=>=>=>=>=>=>=>=>=>=>] 100% | Count of all parsed: 1025. Progress ratio: 66 %. Average price: 516 972 236 rub\r\n",
      " 39 | 39 page with list: [=>=>=>=>=>=>=>=>=>=>=>=>=>=>=>=>=>=>=>=>=>=>=>=>=>=>=>=>] 100% | Count of all parsed: 1050. Progress ratio: 67 %. Average price: 517 554 358 rub\r\n",
      " 40 | 40 page with list: [=>=>=>=>=>=>=>=>=>=>=>=>=>=>=>=>=>=>=>=>=>=>=>=>=>=>=>=>] 100% | Count of all parsed: 1074. Progress ratio: 69 %. Average price: 518 096 724 rub\r\n",
      " 41 | 41 page with list: [=>=>=>=>=>=>=>=>=>=>=>=>=>=>=>=>=>=>=>=>=>=>=>=>=>=>=>=>] 100% | Count of all parsed: 1097. Progress ratio: 70 %. Average price: 518 703 271 rub\r\n",
      " 42 | 42 page with list: [=>=>=>=>=>=>=>=>=>=>=>=>=>=>=>=>=>=>=>=>=>=>=>=>=>=>=>=>] 100% | Count of all parsed: 1123. Progress ratio: 72 %. Average price: 519 420 367 rub\r\n",
      " 43 | 43 page with list: [=>=>=>=>=>=>=>=>=>=>=>=>=>=>=>=>=>=>=>=>=>=>=>=>=>=>=>=>] 100% | Count of all parsed: 1149. Progress ratio: 74 %. Average price: 520 163 582 rub\r\n",
      " 44 | 44 page with list: [=>=>=>=>=>=>=>=>=>=>=>=>=>=>=>=>=>=>=>=>=>=>=>=>=>=>=>=>] 100% | Count of all parsed: 1174. Progress ratio: 75 %. Average price: 520 845 567 rub\r\n",
      " 45 | 45 page with list: [=>=>=>=>=>=>=>=>=>=>=>=>=>=>=>=>=>=>=>=>=>=>=>=>=>=>=>=>] 100% | Count of all parsed: 1200. Progress ratio: 77 %. Average price: 521 652 032 rub\r\n",
      " 46 | 46 page with list: [=>=>=>=>=>=>=>=>=>=>=>=>=>=>=>=>=>=>=>=>=>=>=>=>=>=>=>=>] 100% | Count of all parsed: 1227. Progress ratio: 79 %. Average price: 522 521 211 rub\r\n",
      " 47 | 47 page with list: [=>=>=>=>=>=>=>=>=>=>=>=>=>=>=>=>=>=>=>=>=>=>=>=>=>=>=>=>] 100% | Count of all parsed: 1253. Progress ratio: 80 %. Average price: 523 418 203 rub\r\n",
      " 48 | 48 page with list: [=>=>=>=>=>=>=>=>=>=>=>=>=>=>=>=>=>=>=>=>=>=>=>=>=>=>=>=>] 100% | Count of all parsed: 1278. Progress ratio: 82 %. Average price: 524 372 600 rub\r\n",
      " 49 | 49 page with list: [=>=>=>=>=>=>=>=>=>=>=>=>=>=>=>=>=>=>=>=>=>=>=>=>=>=>=>=>] 100% | Count of all parsed: 1302. Progress ratio: 84 %. Average price: 525 565 800 rub\r\n",
      " 50 | 50 page with list: [=>=>=>=>=>=>=>=>=>=>=>=>=>=>=>=>=>=>=>=>=>=>=>=>=>=>=>=>] 100% | Count of all parsed: 1329. Progress ratio: 85 %. Average price: 527 236 017 rub\r\n",
      " 51 | 51 page with list: [=>=>=>=>=>=>=>=>=>=>=>=>=>=>=>=>=>=>=>=>=>=>=>=>=>=>=>=>] 100% | Count of all parsed: 1354. Progress ratio: 87 %. Average price: 529 303 638 rub\r\n",
      " 52 | 52 page with list: [=>=>=>=>=>=>=>=>=>=>=>=>=>=>=>=>=>=>=>=>=>=>=>=>=>=>=>=>] 100% | Count of all parsed: 1378. Progress ratio: 88 %. Average price: 532 728 439 rub\r\n",
      " 53 | 53 page with list: [=>=>=>=>=>=>=>=>=>=>=>=>=>=>=>=>=>=>=>=>=>=>=>=>=>=>=>=>] 100% | Count of all parsed: 1405. Progress ratio: 90 %. Average price: 533 142 094 rub\r\n",
      " 54 | 54 page with list: [=>=>=>=>=>=>=>=>=>=>=>=>=>=>=>=>=>=>=>=>=>=>=>=>=>] 100% | Count of all parsed: 1428. Progress ratio: 102 %. Average price: 533 270 657 rub\r\n",
      "\n",
      "Exception: 429 Client Error: Too Many Requests for url: https://www.cian.ru/cat.php?deal_type=sale&engine_version=2&offer_type=flat&p=1&region=1&room2=1&with_neighbors=0\n",
      "The collection of information from the pages with ending parse on 55 page...\n",
      "\n",
      "\n",
      "Exception: 429 Client Error: Too Many Requests for url: https://www.cian.ru/cat.php?deal_type=sale&engine_version=2&offer_type=flat&p=1&region=1&room2=1&with_neighbors=0\n",
      "The collection of information from the pages with ending parse on 56 page...\n",
      "\n",
      "\n",
      "\n",
      "The collection of information from the pages with list of offers is completed\n",
      "Total number of parsed offers: 1428. \n"
     ]
    }
   ],
   "source": [
    "data_nolog_2 = moscow_parser.get_flats(\n",
    "    deal_type=\"sale\",\n",
    "    rooms = 2,\n",
    "    additional_settings={\n",
    "        \"start_page\":1,\n",
    "        \"end_page\": 56,\n",
    "        \"have_loggia\": False\n",
    "    }\n",
    ")"
   ],
   "metadata": {
    "collapsed": false,
    "ExecuteTime": {
     "end_time": "2024-05-10T18:57:17.047943200Z",
     "start_time": "2024-05-10T18:47:56.355976600Z"
    }
   },
   "id": "eb5eda026b2bbc15",
   "execution_count": 53
  },
  {
   "cell_type": "code",
   "outputs": [
    {
     "name": "stdout",
     "output_type": "stream",
     "text": [
      "\n",
      "                              Preparing to collect information from pages..\n",
      "The page from which the collection of information begins: \n",
      " https://cian.ru/cat.php?engine_version=2&p=1&with_neighbors=0&region=1&deal_type=sale&offer_type=flat&room3=1\n",
      "\n",
      "Collecting information from pages with list of offers\n",
      " 1 | 1 page with list: [=>=>=>=>=>=>=>=>=>=>=>=>=>=>=>=>=>=>=>=>=>=>=>=>=>=>=>=>] 100% | Count of all parsed: 28. Progress ratio: 2 %. Average price: 622 945 500 rub\r\n",
      " 2 | 2 page with list: [=>=>=>=>=>=>=>=>=>=>=>=>=>=>=>=>=>=>=>=>=>=>=>=>=>=>=>=>] 100% | Count of all parsed: 56. Progress ratio: 4 %. Average price: 706 504 134 rub\r\n",
      " 3 | 3 page with list: [=>=>=>=>=>=>=>=>=>=>=>=>=>=>=>=>=>=>=>=>=>=>=>=>=>=>=>=>] 100% | Count of all parsed: 84. Progress ratio: 6 %. Average price: 746 638 362 rub\r\n",
      " 4 | 4 page with list: [=>=>=>=>=>=>=>=>=>=>=>=>=>=>=>=>=>=>=>=>=>=>=>=>=>=>=>=>] 100% | Count of all parsed: 112. Progress ratio: 8 %. Average price: 777 433 904 rub\r\n",
      " 5 | 5 page with list: [=>=>=>=>=>=>=>=>=>=>=>=>=>=>=>=>=>=>=>=>=>=>=>=>=>=>=>=>] 100% | Count of all parsed: 139. Progress ratio: 9 %. Average price: 793 856 905 rub\r\n",
      " 6 | 6 page with list: [=>=>=>=>=>=>=>=>=>=>=>=>=>=>=>=>=>=>=>=>=>=>=>=>=>=>=>=>] 100% | Count of all parsed: 167. Progress ratio: 11 %. Average price: 807 253 237 rub\r\n",
      " 7 | 7 page with list: [=>=>=>=>=>=>=>=>=>=>=>=>=>=>=>=>=>=>=>=>=>=>=>=>=>=>=>=>] 100% | Count of all parsed: 195. Progress ratio: 13 %. Average price: 819 068 883 rub\r\n",
      " 8 | 8 page with list: [=>=>=>=>=>=>=>=>=>=>=>=>=>=>=>=>=>=>=>=>=>=>=>=>=>=>=>=>] 100% | Count of all parsed: 223. Progress ratio: 15 %. Average price: 830 345 069 rub\r\n",
      " 9 | 9 page with list: [=>=>=>=>=>=>=>=>=>=>=>=>=>=>=>=>=>=>=>=>=>=>=>=>=>=>=>=>] 100% | Count of all parsed: 251. Progress ratio: 17 %. Average price: 838 031 934 rub\r\n",
      " 10 | 10 page with list: [=>=>=>=>=>=>=>=>=>=>=>=>=>=>=>=>=>=>=>=>=>=>=>=>=>=>=>=>] 100% | Count of all parsed: 279. Progress ratio: 18 %. Average price: 844 567 741 rub\r\n",
      " 11 | 11 page with list: [=>=>=>=>=>=>=>=>=>=>=>=>=>=>=>=>=>=>=>=>=>=>=>=>=>=>=>=>] 100% | Count of all parsed: 307. Progress ratio: 20 %. Average price: 854 188 633 rub\r\n",
      " 12 | 12 page with list: [=>=>=>=>=>=>=>=>=>=>=>=>=>=>=>=>=>=>=>=>=>=>=>=>=>=>=>=>] 100% | Count of all parsed: 335. Progress ratio: 22 %. Average price: 862 411 236 rub\r\n",
      " 13 | 13 page with list: [=>=>=>=>=>=>=>=>=>=>=>=>=>=>=>=>=>=>=>=>=>=>=>=>=>=>=>=>] 100% | Count of all parsed: 363. Progress ratio: 24 %. Average price: 869 775 558 rub\r\n",
      " 14 | 14 page with list: [=>=>=>=>=>=>=>=>=>=>=>=>=>=>=>=>=>=>=>=>=>=>=>=>=>=>=>=>] 100% | Count of all parsed: 391. Progress ratio: 25 %. Average price: 880 918 832 rub\r\n",
      " 15 | 15 page with list: [=>=>=>=>=>=>=>=>=>=>=>=>=>=>=>=>=>=>=>=>=>=>=>=>=>=>=>=>] 100% | Count of all parsed: 419. Progress ratio: 27 %. Average price: 892 896 951 rub\r\n",
      " 16 | 16 page with list: [=>=>=>=>=>=>=>=>=>=>=>=>=>=>=>=>=>=>=>=>=>=>=>=>=>=>=>=>] 100% | Count of all parsed: 447. Progress ratio: 29 %. Average price: 899 000 065 rub\r\n",
      " 17 | 17 page with list: [=>=>=>=>=>=>=>=>=>=>=>=>=>=>=>=>=>=>=>=>=>=>=>=>=>=>=>=>] 100% | Count of all parsed: 475. Progress ratio: 31 %. Average price: 904 130 522 rub\r\n",
      " 18 | 18 page with list: [=>=>=>=>=>=>=>=>=>=>=>=>=>=>=>=>=>=>=>=>=>=>=>=>=>=>=>=>] 100% | Count of all parsed: 503. Progress ratio: 33 %. Average price: 908 000 073 rub\r\n",
      " 19 | 19 page with list: [=>=>=>=>=>=>=>=>=>=>=>=>=>=>=>=>=>=>=>=>=>=>=>=>=>=>=>=>] 100% | Count of all parsed: 531. Progress ratio: 34 %. Average price: 913 619 341 rub\r\n",
      " 20 | 20 page with list: [=>=>=>=>=>=>=>=>=>=>=>=>=>=>=>=>=>=>=>=>=>=>=>=>=>=>=>=>] 100% | Count of all parsed: 559. Progress ratio: 36 %. Average price: 921 100 794 rub\r\n",
      " 21 | 21 page with list: [=>=>=>=>=>=>=>=>=>=>=>=>=>=>=>=>=>=>=>=>=>=>=>=>=>=>=>=>] 100% | Count of all parsed: 587. Progress ratio: 38 %. Average price: 926 967 890 rub\r\n",
      " 22 | 22 page with list: [=>=>=>=>=>=>=>=>=>=>=>=>=>=>=>=>=>=>=>=>=>=>=>=>=>=>=>=>] 100% | Count of all parsed: 615. Progress ratio: 40 %. Average price: 930 395 415 rub\r\n",
      " 23 | 23 page with list: [=>=>=>=>=>=>=>=>=>=>=>=>=>=>=>=>=>=>=>=>=>=>=>=>=>=>=>=>] 100% | Count of all parsed: 643. Progress ratio: 42 %. Average price: 932 419 594 rub\r\n",
      " 24 | 24 page with list: [=>=>=>=>=>=>=>=>=>=>=>=>=>=>=>=>=>=>=>=>=>=>=>=>=>=>=>=>] 100% | Count of all parsed: 671. Progress ratio: 43 %. Average price: 936 747 668 rub\r\n",
      " 25 | 25 page with list: [=>=>=>=>=>=>=>=>=>=>=>=>=>=>=>=>=>=>=>=>=>=>=>=>=>=>=>=>] 100% | Count of all parsed: 699. Progress ratio: 45 %. Average price: 941 560 568 rub\r\n",
      " 26 | 26 page with list: [=>=>=>=>=>=>=>=>=>=>=>=>=>=>=>=>=>=>=>=>=>=>=>=>=>=>=>=>] 100% | Count of all parsed: 727. Progress ratio: 47 %. Average price: 943 533 443 rub\r\n",
      " 27 | 27 page with list: [=>=>=>=>=>=>=>=>=>=>=>=>=>=>=>=>=>=>=>=>=>=>=>=>=>=>=>=>] 100% | Count of all parsed: 755. Progress ratio: 49 %. Average price: 945 456 031 rub\r\n",
      " 28 | 28 page with list: [=>=>=>=>=>=>=>=>=>=>=>=>=>=>=>=>=>=>=>=>=>=>=>=>=>=>=>=>] 100% | Count of all parsed: 783. Progress ratio: 50 %. Average price: 949 351 025 rub\r\n",
      " 29 | 29 page with list: [=>=>=>=>=>=>=>=>=>=>=>=>=>=>=>=>=>=>=>=>=>=>=>=>=>=>=>=>] 100% | Count of all parsed: 808. Progress ratio: 52 %. Average price: 950 454 677 rub\r\n",
      " 30 | 30 page with list: [=>=>=>=>=>=>=>=>=>=>=>=>=>=>=>=>=>=>=>=>=>=>=>=>=>=>=>=>] 100% | Count of all parsed: 834. Progress ratio: 54 %. Average price: 950 927 519 rub\r\n",
      " 31 | 31 page with list: [=>=>=>=>=>=>=>=>=>=>=>=>=>=>=>=>=>=>=>=>=>=>=>=>=>=>=>=>] 100% | Count of all parsed: 862. Progress ratio: 55 %. Average price: 951 472 722 rub\r\n",
      " 32 | 32 page with list: [=>=>=>=>=>=>=>=>=>=>=>=>=>=>=>=>=>=>=>=>=>=>=>=>=>=>=>=>] 100% | Count of all parsed: 889. Progress ratio: 57 %. Average price: 952 018 862 rub\r\n",
      " 33 | 33 page with list: [=>=>=>=>=>=>=>=>=>=>=>=>=>=>=>=>=>=>=>=>=>=>=>=>=>=>=>=>] 100% | Count of all parsed: 915. Progress ratio: 59 %. Average price: 952 577 646 rub\r\n",
      " 34 | 34 page with list: [=>=>=>=>=>=>=>=>=>=>=>=>=>=>=>=>=>=>=>=>=>=>=>=>=>=>=>=>] 100% | Count of all parsed: 940. Progress ratio: 60 %. Average price: 953 093 414 rub\r\n",
      " 35 | 35 page with list: [=>=>=>=>=>=>=>=>=>=>=>=>=>=>=>=>=>=>=>=>=>=>=>=>=>=>=>=>] 100% | Count of all parsed: 966. Progress ratio: 62 %. Average price: 953 684 774 rub\r\n",
      " 36 | 36 page with list: [=>=>=>=>=>=>=>=>=>=>=>=>=>=>=>=>=>=>=>=>=>=>=>=>=>=>=>=>] 100% | Count of all parsed: 992. Progress ratio: 64 %. Average price: 954 258 376 rub\r\n",
      " 37 | 37 page with list: [=>=>=>=>=>=>=>=>=>=>=>=>=>=>=>=>=>=>=>=>=>=>=>=>=>=>=>=>] 100% | Count of all parsed: 1015. Progress ratio: 65 %. Average price: 954 814 125 rub\r\n",
      " 38 | 38 page with list: [=>=>=>=>=>=>=>=>=>=>=>=>=>=>=>=>=>=>=>=>=>=>=>=>=>=>=>=>] 100% | Count of all parsed: 1041. Progress ratio: 67 %. Average price: 955 526 225 rub\r\n",
      " 39 | 39 page with list: [=>=>=>=>=>=>=>=>=>=>=>=>=>=>=>=>=>=>=>=>=>=>=>=>=>=>=>=>] 100% | Count of all parsed: 1067. Progress ratio: 69 %. Average price: 956 281 710 rub\r\n",
      " 40 | 40 page with list: [=>=>=>=>=>=>=>=>=>=>=>=>=>=>=>=>=>=>=>=>=>=>=>=>=>=>=>=>] 100% | Count of all parsed: 1093. Progress ratio: 70 %. Average price: 957 034 558 rub\r\n",
      " 41 | 41 page with list: [=>=>=>=>=>=>=>=>=>=>=>=>=>=>=>=>=>=>=>=>=>=>=>=>=>=>=>=>] 100% | Count of all parsed: 1117. Progress ratio: 72 %. Average price: 957 780 743 rub\r\n",
      " 42 | 42 page with list: [=>=>=>=>=>=>=>=>=>=>=>=>=>=>=>=>=>=>=>=>=>=>=>=>=>=>=>=>] 100% | Count of all parsed: 1140. Progress ratio: 73 %. Average price: 958 462 927 rub\r\n",
      " 43 | 43 page with list: [=>=>=>=>=>=>=>=>=>=>=>=>=>=>=>=>=>=>=>=>=>=>=>=>=>=>=>=>] 100% | Count of all parsed: 1164. Progress ratio: 75 %. Average price: 959 202 363 rub\r\n",
      " 44 | 44 page with list: [=>=>=>=>=>=>=>=>=>=>=>=>=>=>=>=>=>=>=>=>=>=>=>=>=>=>=>=>] 100% | Count of all parsed: 1189. Progress ratio: 76 %. Average price: 960 023 661 rub\r\n",
      " 45 | 45 page with list: [=>=>=>=>=>=>=>=>=>=>=>=>=>=>=>=>=>=>=>=>=>=>=>=>=>=>=>=>] 100% | Count of all parsed: 1215. Progress ratio: 78 %. Average price: 960 914 350 rub\r\n",
      " 46 | 46 page with list: [=>=>=>=>=>=>=>=>=>=>=>=>=>=>=>=>=>=>=>=>=>=>=>=>=>=>=>=>] 100% | Count of all parsed: 1242. Progress ratio: 80 %. Average price: 961 800 481 rub\r\n",
      " 47 | 47 page with list: [=>=>=>=>=>=>=>=>=>=>=>=>=>=>=>=>=>=>=>=>=>=>=>=>=>=>=>=>] 100% | Count of all parsed: 1267. Progress ratio: 81 %. Average price: 962 755 157 rub\r\n",
      " 48 | 48 page with list: [=>=>=>=>=>=>=>=>=>=>=>=>=>=>=>=>=>=>=>=>=>=>=>=>=>=>=>=>] 100% | Count of all parsed: 1293. Progress ratio: 83 %. Average price: 963 744 687 rub\r\n",
      " 49 | 49 page with list: [=>=>=>=>=>=>=>=>=>=>=>=>=>=>=>=>=>=>=>=>=>=>=>=>=>=>=>=>] 100% | Count of all parsed: 1320. Progress ratio: 85 %. Average price: 964 870 340 rub\r\n",
      " 50 | 50 page with list: [=>=>=>=>=>=>=>=>=>=>=>=>=>=>=>=>=>=>=>=>=>=>=>=>=>=>=>=>] 100% | Count of all parsed: 1347. Progress ratio: 86 %. Average price: 966 080 226 rub\r\n",
      " 51 | 51 page with list: [=>=>=>=>=>=>=>=>=>=>=>=>=>=>=>=>=>=>=>=>=>=>=>=>=>=>=>=>] 100% | Count of all parsed: 1373. Progress ratio: 88 %. Average price: 967 330 901 rub\r\n",
      " 52 | 52 page with list: [=>=>=>=>=>=>=>=>=>=>=>=>=>=>=>=>=>=>=>=>=>=>=>=>=>=>=>=>] 100% | Count of all parsed: 1399. Progress ratio: 90 %. Average price: 968 704 767 rub\r\n",
      " 53 | 53 page with list: [=>=>=>=>=>=>=>=>=>=>=>=>=>=>=>=>=>=>=>=>=>=>=>=>=>=>=>=>] 100% | Count of all parsed: 1424. Progress ratio: 91 %. Average price: 970 185 063 rub\r\n",
      " 54 | 54 page with list: [=>=>=>=>=>=>=>=>=>=>=>=>=>=>=>=>=>=>=>=>=>=>=>=>=>] 100% | Count of all parsed: 1449. Progress ratio: 104 %. Average price: 971 932 576 rub\r\n",
      "\n",
      "Exception: 429 Client Error: Too Many Requests for url: https://www.cian.ru/cat.php?deal_type=sale&engine_version=2&offer_type=flat&p=1&region=1&room3=1&with_neighbors=0\n",
      "The collection of information from the pages with ending parse on 55 page...\n",
      "\n",
      "\n",
      "Exception: 429 Client Error: Too Many Requests for url: https://www.cian.ru/cat.php?deal_type=sale&engine_version=2&offer_type=flat&p=1&region=1&room3=1&with_neighbors=0\n",
      "The collection of information from the pages with ending parse on 56 page...\n",
      "\n",
      "\n",
      "\n",
      "The collection of information from the pages with list of offers is completed\n",
      "Total number of parsed offers: 1449. \n"
     ]
    }
   ],
   "source": [
    "data_nolog_3 = moscow_parser.get_flats(\n",
    "    deal_type=\"sale\",\n",
    "    rooms = 3,\n",
    "    additional_settings={\n",
    "        \"start_page\":1,\n",
    "        \"end_page\": 56,\n",
    "        \"have_loggia\": False\n",
    "    }\n",
    ")"
   ],
   "metadata": {
    "collapsed": false,
    "ExecuteTime": {
     "end_time": "2024-05-10T19:03:59.976370600Z",
     "start_time": "2024-05-10T18:57:59.527525700Z"
    }
   },
   "id": "3a767920ec7d0790",
   "execution_count": 54
  },
  {
   "cell_type": "markdown",
   "source": [
    "Далее объединим всю полученную частями информацию о квартирах без лоджии в один датафрейм."
   ],
   "metadata": {
    "collapsed": false
   },
   "id": "3006962629748866"
  },
  {
   "cell_type": "code",
   "outputs": [
    {
     "data": {
      "text/plain": "                            author        author_type  \\\n0                           Sminex          developer   \n1  MHEstate - Элитная недвижимость  real_estate_agent   \n2                         MR Group          developer   \n3                       Voller.one  real_estate_agent   \n4                           VESPER          developer   \n\n                                        url location deal_type  \\\n0  https://www.cian.ru/sale/flat/293713671/   Москва      sale   \n1  https://www.cian.ru/sale/flat/300932847/   Москва      sale   \n2  https://www.cian.ru/sale/flat/301575583/   Москва      sale   \n3  https://www.cian.ru/sale/flat/297643594/   Москва      sale   \n4  https://www.cian.ru/sale/flat/287317369/   Москва      sale   \n\n  accommodation_type  floor  floors_count  rooms_count  total_meters  \\\n0               flat      2            14            1         72.60   \n1               flat     10            14            1         65.20   \n2               flat      4            13            1         68.62   \n3               flat     11            21            1         43.60   \n4               flat      5            21            1         65.90   \n\n   price_per_month  commissions        price        district  \\\n0               -1            0  133260000.0        Якиманка   \n1               -1            0   35000000.0       Мещанский   \n2               -1            0   86856437.0       Мещанский   \n3               -1            0   18000000.0  Филевский парк   \n4               -1            0   78259545.0     Пресненский   \n\n               street house_number      underground residential_complex  \n0                                           Полянка     Лаврушинский ЖК  \n1        Гиляровского           50    Проспект Мира                      \n2  м. Цветной бульвар               Цветной бульвар   Клубный дом Forum  \n3    Береговой проезд          5к2             Фили           Фили Град  \n4           Костикова          4к1  Улица 1905 года               Lucky  ",
      "text/html": "<div>\n<style scoped>\n    .dataframe tbody tr th:only-of-type {\n        vertical-align: middle;\n    }\n\n    .dataframe tbody tr th {\n        vertical-align: top;\n    }\n\n    .dataframe thead th {\n        text-align: right;\n    }\n</style>\n<table border=\"1\" class=\"dataframe\">\n  <thead>\n    <tr style=\"text-align: right;\">\n      <th></th>\n      <th>author</th>\n      <th>author_type</th>\n      <th>url</th>\n      <th>location</th>\n      <th>deal_type</th>\n      <th>accommodation_type</th>\n      <th>floor</th>\n      <th>floors_count</th>\n      <th>rooms_count</th>\n      <th>total_meters</th>\n      <th>price_per_month</th>\n      <th>commissions</th>\n      <th>price</th>\n      <th>district</th>\n      <th>street</th>\n      <th>house_number</th>\n      <th>underground</th>\n      <th>residential_complex</th>\n    </tr>\n  </thead>\n  <tbody>\n    <tr>\n      <th>0</th>\n      <td>Sminex</td>\n      <td>developer</td>\n      <td>https://www.cian.ru/sale/flat/293713671/</td>\n      <td>Москва</td>\n      <td>sale</td>\n      <td>flat</td>\n      <td>2</td>\n      <td>14</td>\n      <td>1</td>\n      <td>72.60</td>\n      <td>-1</td>\n      <td>0</td>\n      <td>133260000.0</td>\n      <td>Якиманка</td>\n      <td></td>\n      <td></td>\n      <td>Полянка</td>\n      <td>Лаврушинский ЖК</td>\n    </tr>\n    <tr>\n      <th>1</th>\n      <td>MHEstate - Элитная недвижимость</td>\n      <td>real_estate_agent</td>\n      <td>https://www.cian.ru/sale/flat/300932847/</td>\n      <td>Москва</td>\n      <td>sale</td>\n      <td>flat</td>\n      <td>10</td>\n      <td>14</td>\n      <td>1</td>\n      <td>65.20</td>\n      <td>-1</td>\n      <td>0</td>\n      <td>35000000.0</td>\n      <td>Мещанский</td>\n      <td>Гиляровского</td>\n      <td>50</td>\n      <td>Проспект Мира</td>\n      <td></td>\n    </tr>\n    <tr>\n      <th>2</th>\n      <td>MR Group</td>\n      <td>developer</td>\n      <td>https://www.cian.ru/sale/flat/301575583/</td>\n      <td>Москва</td>\n      <td>sale</td>\n      <td>flat</td>\n      <td>4</td>\n      <td>13</td>\n      <td>1</td>\n      <td>68.62</td>\n      <td>-1</td>\n      <td>0</td>\n      <td>86856437.0</td>\n      <td>Мещанский</td>\n      <td>м. Цветной бульвар</td>\n      <td></td>\n      <td>Цветной бульвар</td>\n      <td>Клубный дом Forum</td>\n    </tr>\n    <tr>\n      <th>3</th>\n      <td>Voller.one</td>\n      <td>real_estate_agent</td>\n      <td>https://www.cian.ru/sale/flat/297643594/</td>\n      <td>Москва</td>\n      <td>sale</td>\n      <td>flat</td>\n      <td>11</td>\n      <td>21</td>\n      <td>1</td>\n      <td>43.60</td>\n      <td>-1</td>\n      <td>0</td>\n      <td>18000000.0</td>\n      <td>Филевский парк</td>\n      <td>Береговой проезд</td>\n      <td>5к2</td>\n      <td>Фили</td>\n      <td>Фили Град</td>\n    </tr>\n    <tr>\n      <th>4</th>\n      <td>VESPER</td>\n      <td>developer</td>\n      <td>https://www.cian.ru/sale/flat/287317369/</td>\n      <td>Москва</td>\n      <td>sale</td>\n      <td>flat</td>\n      <td>5</td>\n      <td>21</td>\n      <td>1</td>\n      <td>65.90</td>\n      <td>-1</td>\n      <td>0</td>\n      <td>78259545.0</td>\n      <td>Пресненский</td>\n      <td>Костикова</td>\n      <td>4к1</td>\n      <td>Улица 1905 года</td>\n      <td>Lucky</td>\n    </tr>\n  </tbody>\n</table>\n</div>"
     },
     "execution_count": 59,
     "metadata": {},
     "output_type": "execute_result"
    }
   ],
   "source": [
    "df_nolog_1 = pd.DataFrame(data_nolog_1)\n",
    "df_nolog_2 = pd.DataFrame(data_nolog_2)\n",
    "df_nolog_3 = pd.DataFrame(data_nolog_1)\n",
    "\n",
    "df_nolog = pd.concat([df_nolog_1, df_nolog_2, df_nolog_3], axis=0)\n",
    "df_nolog.head()"
   ],
   "metadata": {
    "collapsed": false,
    "ExecuteTime": {
     "end_time": "2024-05-10T19:38:43.183988800Z",
     "start_time": "2024-05-10T19:38:43.090123400Z"
    }
   },
   "id": "31abc78879479753",
   "execution_count": 59
  },
  {
   "cell_type": "code",
   "outputs": [
    {
     "data": {
      "text/plain": "(4310, 18)"
     },
     "execution_count": 67,
     "metadata": {},
     "output_type": "execute_result"
    }
   ],
   "source": [
    "df_nolog.shape"
   ],
   "metadata": {
    "collapsed": false,
    "ExecuteTime": {
     "end_time": "2024-05-10T22:18:31.741176Z",
     "start_time": "2024-05-10T22:18:31.685231600Z"
    }
   },
   "id": "e0fb613fdf6dcf09",
   "execution_count": 67
  },
  {
   "cell_type": "markdown",
   "source": [
    "Проведем аналогичную работу с данными о однокомнатных, двухкомнатных и трехкомнатных квартирах, в которых есть лоджия, и объединим всю информацию в один датафрейм."
   ],
   "metadata": {
    "collapsed": false
   },
   "id": "4760278ffb99c43d"
  },
  {
   "cell_type": "code",
   "outputs": [
    {
     "name": "stdout",
     "output_type": "stream",
     "text": [
      "\n",
      "                              Preparing to collect information from pages..\n",
      "The page from which the collection of information begins: \n",
      " https://cian.ru/cat.php?engine_version=2&p=1&with_neighbors=0&region=1&deal_type=sale&offer_type=flat&room1=1&loggia=1\n",
      "\n",
      "Collecting information from pages with list of offers\n",
      " 1 | 1 page with list: [=>=>=>=>=>=>=>=>=>=>=>=>=>=>=>=>=>=>=>=>=>=>=>=>=>=>=>=>] 100% | Count of all parsed: 28. Progress ratio: 2 %. Average price: 62 369 959 rub\r\n",
      " 2 | 2 page with list: [=>=>=>=>=>=>=>=>=>=>=>=>=>=>=>=>=>=>=>=>=>=>=>=>=>=>=>=>] 100% | Count of all parsed: 56. Progress ratio: 4 %. Average price: 73 204 857 rub\r\n",
      " 3 | 3 page with list: [=>=>=>=>=>=>=>=>=>=>=>=>=>=>=>=>=>=>=>=>=>=>=>=>=>=>=>=>] 100% | Count of all parsed: 84. Progress ratio: 6 %. Average price: 78 278 906 rub\r\n",
      " 4 | 4 page with list: [=>=>=>=>=>=>=>=>=>=>=>=>=>=>=>=>=>=>=>=>=>=>=>=>=>=>=>=>] 100% | Count of all parsed: 111. Progress ratio: 8 %. Average price: 81 618 900 rub\r\n",
      " 5 | 5 page with list: [=>=>=>=>=>=>=>=>=>=>=>=>=>=>=>=>=>=>=>=>=>=>=>=>=>=>=>=>] 100% | Count of all parsed: 139. Progress ratio: 9 %. Average price: 83 905 144 rub\r\n",
      " 6 | 6 page with list: [=>=>=>=>=>=>=>=>=>=>=>=>=>=>=>=>=>=>=>=>=>=>=>=>=>=>=>=>] 100% | Count of all parsed: 167. Progress ratio: 11 %. Average price: 86 483 646 rub\r\n",
      " 7 | 7 page with list: [=>=>=>=>=>=>=>=>=>=>=>=>=>=>=>=>=>=>=>=>=>=>=>=>=>=>=>=>] 100% | Count of all parsed: 195. Progress ratio: 13 %. Average price: 88 768 432 rub\r\n",
      " 8 | 8 page with list: [=>=>=>=>=>=>=>=>=>=>=>=>=>=>=>=>=>=>=>=>=>=>=>=>=>=>=>=>] 100% | Count of all parsed: 223. Progress ratio: 15 %. Average price: 90 821 235 rub\r\n",
      " 9 | 9 page with list: [=>=>=>=>=>=>=>=>=>=>=>=>=>=>=>=>=>=>=>=>=>=>=>=>=>=>=>=>] 100% | Count of all parsed: 251. Progress ratio: 17 %. Average price: 92 419 062 rub\r\n",
      " 10 | 10 page with list: [=>=>=>=>=>=>=>=>=>=>=>=>=>=>=>=>=>=>=>=>=>=>=>=>=>=>=>=>] 100% | Count of all parsed: 279. Progress ratio: 18 %. Average price: 93 685 920 rub\r\n",
      " 11 | 11 page with list: [=>=>=>=>=>=>=>=>=>=>=>=>=>=>=>=>=>=>=>=>=>=>=>=>=>=>=>=>] 100% | Count of all parsed: 307. Progress ratio: 20 %. Average price: 95 043 446 rub\r\n",
      " 12 | 12 page with list: [=>=>=>=>=>=>=>=>=>=>=>=>=>=>=>=>=>=>=>=>=>=>=>=>=>=>=>=>] 100% | Count of all parsed: 335. Progress ratio: 22 %. Average price: 96 290 897 rub\r\n",
      " 13 | 13 page with list: [=>=>=>=>=>=>=>=>=>=>=>=>=>=>=>=>=>=>=>=>=>=>=>=>=>=>=>=>] 100% | Count of all parsed: 363. Progress ratio: 24 %. Average price: 97 403 511 rub\r\n",
      " 14 | 14 page with list: [=>=>=>=>=>=>=>=>=>=>=>=>=>=>=>=>=>=>=>=>=>=>=>=>=>=>=>=>] 100% | Count of all parsed: 391. Progress ratio: 25 %. Average price: 98 395 913 rub\r\n",
      " 15 | 15 page with list: [=>=>=>=>=>=>=>=>=>=>=>=>=>=>=>=>=>=>=>=>=>=>=>=>=>=>=>=>] 100% | Count of all parsed: 419. Progress ratio: 27 %. Average price: 99 550 147 rub\r\n",
      " 16 | 16 page with list: [=>=>=>=>=>=>=>=>=>=>=>=>=>=>=>=>=>=>=>=>=>=>=>=>=>=>=>=>] 100% | Count of all parsed: 435. Progress ratio: 28 %. Average price: 100 411 827 rub\r\n",
      " 17 | 17 page with list: [=>=>=>=>=>=>=>=>=>=>=>=>=>=>=>=>=>=>=>=>=>=>=>=>=>=>=>=>] 100% | Count of all parsed: 448. Progress ratio: 29 %. Average price: 101 244 113 rub\r\n",
      " 18 | 18 page with list: [=>=>=>=>=>=>=>=>=>=>=>=>=>=>=>=>=>=>=>=>=>=>=>=>=>=>=>=>] 100% | Count of all parsed: 476. Progress ratio: 31 %. Average price: 101 777 205 rub\r\n",
      " 19 | 19 page with list: [=>=>=>=>=>=>=>=>=>=>=>=>=>=>=>=>=>=>=>=>=>=>=>=>=>=>=>=>] 100% | Count of all parsed: 504. Progress ratio: 33 %. Average price: 102 369 200 rub\r\n",
      " 20 | 20 page with list: [=>=>=>=>=>=>=>=>=>=>=>=>=>=>=>=>=>=>=>=>=>=>=>=>=>=>=>=>] 100% | Count of all parsed: 532. Progress ratio: 34 %. Average price: 103 008 123 rub\r\n",
      " 21 | 21 page with list: [=>=>=>=>=>=>=>=>=>=>=>=>=>=>=>=>=>=>=>=>=>=>=>=>=>=>=>=>] 100% | Count of all parsed: 560. Progress ratio: 36 %. Average price: 103 723 509 rub\r\n",
      " 22 | 22 page with list: [=>=>=>=>=>=>=>=>=>=>=>=>=>=>=>=>=>=>=>=>=>=>=>=>=>=>=>=>] 100% | Count of all parsed: 588. Progress ratio: 38 %. Average price: 104 484 240 rub\r\n",
      " 23 | 23 page with list: [=>=>=>=>=>=>=>=>=>=>=>=>=>=>=>=>=>=>=>=>=>=>=>=>=>=>=>=>] 100% | Count of all parsed: 616. Progress ratio: 40 %. Average price: 104 766 804 rub\r\n",
      " 24 | 24 page with list: [=>=>=>=>=>=>=>=>=>=>=>=>=>=>=>=>=>=>=>=>=>=>=>=>=>=>=>=>] 100% | Count of all parsed: 644. Progress ratio: 42 %. Average price: 105 075 362 rub\r\n",
      " 25 | 25 page with list: [=>=>=>=>=>=>=>=>=>=>=>=>=>=>=>=>=>=>=>=>=>=>=>=>=>=>=>=>] 100% | Count of all parsed: 672. Progress ratio: 43 %. Average price: 105 399 008 rub\r\n",
      " 26 | 26 page with list: [=>=>=>=>=>=>=>=>=>=>=>=>=>=>=>=>=>=>=>=>=>=>=>=>=>=>=>=>] 100% | Count of all parsed: 700. Progress ratio: 45 %. Average price: 105 723 916 rub\r\n",
      " 27 | 27 page with list: [=>=>=>=>=>=>=>=>=>=>=>=>=>=>=>=>=>=>=>=>=>=>=>=>=>=>=>=>] 100% | Count of all parsed: 728. Progress ratio: 47 %. Average price: 106 047 766 rub\r\n",
      " 28 | 28 page with list: [=>=>=>=>=>=>=>=>=>=>=>=>=>=>=>=>=>=>=>=>=>=>=>=>=>=>=>=>] 100% | Count of all parsed: 756. Progress ratio: 49 %. Average price: 106 365 557 rub\r\n",
      " 29 | 29 page with list: [=>=>=>=>=>=>=>=>=>=>=>=>=>=>=>=>=>=>=>=>=>=>=>=>=>=>=>=>] 100% | Count of all parsed: 784. Progress ratio: 50 %. Average price: 106 676 046 rub\r\n",
      " 30 | 30 page with list: [=>=>=>=>=>=>=>=>=>=>=>=>=>=>=>=>=>=>=>=>=>=>=>=>=>=>=>=>] 100% | Count of all parsed: 812. Progress ratio: 52 %. Average price: 106 982 325 rub\r\n",
      " 31 | 31 page with list: [=>=>=>=>=>=>=>=>=>=>=>=>=>=>=>=>=>=>=>=>=>=>=>=>=>=>=>=>] 100% | Count of all parsed: 840. Progress ratio: 54 %. Average price: 107 283 932 rub\r\n",
      " 32 | 32 page with list: [=>=>=>=>=>=>=>=>=>=>=>=>=>=>=>=>=>=>=>=>=>=>=>=>=>=>=>=>] 100% | Count of all parsed: 868. Progress ratio: 56 %. Average price: 107 578 368 rub\r\n",
      " 33 | 33 page with list: [=>=>=>=>=>=>=>=>=>=>=>=>=>=>=>=>=>=>=>=>=>=>=>=>=>=>=>=>] 100% | Count of all parsed: 896. Progress ratio: 58 %. Average price: 107 866 527 rub\r\n",
      " 34 | 34 page with list: [=>=>=>=>=>=>=>=>=>=>=>=>=>=>=>=>=>=>=>=>=>=>=>=>=>=>=>=>] 100% | Count of all parsed: 924. Progress ratio: 59 %. Average price: 108 150 335 rub\r\n",
      " 35 | 35 page with list: [=>=>=>=>=>=>=>=>=>=>=>=>=>=>=>=>=>=>=>=>=>=>=>=>=>=>=>=>] 100% | Count of all parsed: 952. Progress ratio: 61 %. Average price: 108 428 459 rub\r\n",
      " 36 | 36 page with list: [=>=>=>=>=>=>=>=>=>=>=>=>=>=>=>=>=>=>=>=>=>=>=>=>=>=>=>] 100% | Count of all parsed: 979. Progress ratio: 65 %. Average price: 108 693 104 rub\r\n",
      " 37 | 37 page with list: [=>=>=>=>=>=>=>=>=>=>=>=>=>=>=>=>=>=>=>=>=>=>=>=>=>=>=>=>] 100% | Count of all parsed: 1007. Progress ratio: 65 %. Average price: 108 961 745 rub\r\n",
      " 38 | 38 page with list: [=>=>=>=>=>=>=>=>=>=>=>=>=>=>=>=>=>=>=>=>=>=>=>=>=>=>=>=>] 100% | Count of all parsed: 1035. Progress ratio: 67 %. Average price: 109 226 275 rub\r\n",
      " 39 | 39 page with list: [=>=>=>=>=>=>=>=>=>=>=>=>=>=>=>=>=>=>=>=>=>=>=>=>=>=>=>=>] 100% | Count of all parsed: 1063. Progress ratio: 68 %. Average price: 109 486 837 rub\r\n",
      " 40 | 40 page with list: [=>=>=>=>=>=>=>=>=>=>=>=>=>=>=>=>=>=>=>=>=>=>=>=>=>=>=>=>] 100% | Count of all parsed: 1091. Progress ratio: 70 %. Average price: 109 743 448 rub\r\n",
      " 41 | 41 page with list: [=>=>=>=>=>=>=>=>=>=>=>=>=>=>=>=>=>=>=>=>=>=>=>=>=>=>=>=>] 100% | Count of all parsed: 1119. Progress ratio: 72 %. Average price: 109 996 103 rub\r\n",
      " 42 | 42 page with list: [=>=>=>=>=>=>=>=>=>=>=>=>=>=>=>=>=>=>=>=>=>=>=>=>=>=>=>=>] 100% | Count of all parsed: 1147. Progress ratio: 74 %. Average price: 110 242 961 rub\r\n",
      " 43 | 43 page with list: [=>=>=>=>=>=>=>=>=>=>=>=>=>=>=>=>=>=>=>=>=>=>=>=>=>=>=>=>] 100% | Count of all parsed: 1175. Progress ratio: 75 %. Average price: 110 487 344 rub\r\n",
      " 44 | 44 page with list: [=>=>=>=>=>=>=>=>=>=>=>=>=>=>=>=>=>=>=>=>=>=>=>=>=>=>=>=>] 100% | Count of all parsed: 1203. Progress ratio: 77 %. Average price: 110 728 356 rub\r\n",
      " 45 | 45 page with list: [=>=>=>=>=>=>=>=>=>=>=>=>=>=>=>=>=>=>=>=>=>=>=>=>=>=>=>=>] 100% | Count of all parsed: 1231. Progress ratio: 79 %. Average price: 110 965 855 rub\r\n",
      " 46 | 46 page with list: [=>=>=>=>=>=>=>=>=>=>=>=>=>=>=>=>=>=>=>=>=>=>=>=>=>=>=>=>] 100% | Count of all parsed: 1259. Progress ratio: 81 %. Average price: 111 201 581 rub\r\n",
      " 47 | 47 page with list: [=>=>=>=>=>=>=>=>=>=>=>=>=>=>=>=>=>=>=>=>=>=>=>=>=>=>=>=>] 100% | Count of all parsed: 1287. Progress ratio: 83 %. Average price: 111 432 343 rub\r\n",
      " 48 | 48 page with list: [=>=>=>=>=>=>=>=>=>=>=>=>=>=>=>=>=>=>=>=>=>=>=>=>=>=>=>=>] 100% | Count of all parsed: 1315. Progress ratio: 84 %. Average price: 111 658 457 rub\r\n",
      " 49 | 49 page with list: [=>=>=>=>=>=>=>=>=>=>=>=>=>=>=>=>=>=>=>=>=>=>=>=>=>=>=>=>] 100% | Count of all parsed: 1343. Progress ratio: 86 %. Average price: 111 882 491 rub\r\n",
      " 50 | 50 page with list: [=>=>=>=>=>=>=>=>=>=>=>=>=>=>=>=>=>=>=>=>=>=>=>=>=>=>=>=>] 100% | Count of all parsed: 1371. Progress ratio: 88 %. Average price: 112 104 333 rub\r\n",
      " 51 | 51 page with list: [=>=>=>=>=>=>=>=>=>=>=>=>=>=>=>=>=>=>=>=>=>=>=>=>=>=>=>=>] 100% | Count of all parsed: 1399. Progress ratio: 90 %. Average price: 112 322 593 rub\r\n",
      " 52 | 52 page with list: [=>=>=>=>=>=>=>=>=>=>=>=>=>=>=>=>=>=>=>=>=>=>=>=>=>=>=>] 100% | Count of all parsed: 1426. Progress ratio: 95 %. Average price: 112 530 946 rub\r\n",
      " 53 | 53 page with list: [=>=>=>=>=>=>=>=>=>=>=>=>=>=>=>=>=>=>=>=>=>=>=>=>=>=>=>=>] 100% | Count of all parsed: 1454. Progress ratio: 93 %. Average price: 112 744 276 rub\r\n",
      " 54 | 54 page with list: [=>=>=>=>=>=>=>=>=>=>=>=>=>=>=>=>=>=>=>=>=>=>=>=>=>] 100% | Count of all parsed: 1478. Progress ratio: 106 %. Average price: 112 923 242 rub\r\n",
      "\n",
      "Exception: 429 Client Error: Too Many Requests for url: https://www.cian.ru/cat.php?deal_type=sale&engine_version=2&loggia=1&offer_type=flat&p=1&region=1&room1=1&with_neighbors=0\n",
      "The collection of information from the pages with ending parse on 55 page...\n",
      "\n",
      " 56 | 56 page with list: [=>=>=>=>=>=>=>=>=>=>=>=>=>=>=>=>=>=>=>=>=>=>=>=>=>=>=>=>] 100% | Count of all parsed: 1478. Progress ratio: 95 %. Average price: 112 923 242 rub\r\n",
      "\n",
      "The collection of information from the pages with list of offers is completed\n",
      "Total number of parsed offers: 1478. \n"
     ]
    }
   ],
   "source": [
    "data_log_1 = moscow_parser.get_flats(\n",
    "    deal_type=\"sale\",\n",
    "    rooms = 1,\n",
    "    additional_settings={\n",
    "        \"start_page\":1,\n",
    "        \"end_page\": 56,\n",
    "        \"have_loggia\":True\n",
    "    }\n",
    ")"
   ],
   "metadata": {
    "collapsed": false,
    "ExecuteTime": {
     "end_time": "2024-05-10T19:13:54.135560800Z",
     "start_time": "2024-05-10T19:07:28.127920300Z"
    }
   },
   "id": "ad4a94aa5102a8a2",
   "execution_count": 55
  },
  {
   "cell_type": "code",
   "outputs": [
    {
     "name": "stdout",
     "output_type": "stream",
     "text": [
      "\n",
      "                              Preparing to collect information from pages..\n",
      "The page from which the collection of information begins: \n",
      " https://cian.ru/cat.php?engine_version=2&p=1&with_neighbors=0&region=1&deal_type=sale&offer_type=flat&room2=1&loggia=1\n",
      "\n",
      "Collecting information from pages with list of offers\n",
      " 1 | 1 page with list: [=>=>=>=>=>=>=>=>=>=>=>=>=>=>=>=>=>=>=>=>=>=>=>=>=>=>=>=>] 100% | Count of all parsed: 28. Progress ratio: 2 %. Average price: 104 851 136 rub\r\n",
      " 2 | 2 page with list: [=>=>=>=>=>=>=>=>=>=>=>=>=>=>=>=>=>=>=>=>=>=>=>=>=>=>=>=>] 100% | Count of all parsed: 56. Progress ratio: 4 %. Average price: 126 580 616 rub\r\n",
      " 3 | 3 page with list: [=>=>=>=>=>=>=>=>=>=>=>=>=>=>=>=>=>=>=>=>=>=>=>=>=>=>=>=>] 100% | Count of all parsed: 84. Progress ratio: 6 %. Average price: 133 903 023 rub\r\n",
      " 4 | 4 page with list: [=>=>=>=>=>=>=>=>=>=>=>=>=>=>=>=>=>=>=>=>=>=>=>=>=>=>=>=>] 100% | Count of all parsed: 111. Progress ratio: 8 %. Average price: 139 634 512 rub\r\n",
      " 5 | 5 page with list: [=>=>=>=>=>=>=>=>=>=>=>=>=>=>=>=>=>=>=>=>=>=>=>=>=>=>=>=>] 100% | Count of all parsed: 138. Progress ratio: 9 %. Average price: 142 369 664 rub\r\n",
      " 6 | 6 page with list: [=>=>=>=>=>=>=>=>=>=>=>=>=>=>=>=>=>=>=>=>=>=>=>=>=>=>=>=>] 100% | Count of all parsed: 165. Progress ratio: 11 %. Average price: 145 349 102 rub\r\n",
      " 7 | 7 page with list: [=>=>=>=>=>=>=>=>=>=>=>=>=>=>=>=>=>=>=>=>=>=>=>=>=>=>=>=>] 100% | Count of all parsed: 193. Progress ratio: 13 %. Average price: 148 481 293 rub\r\n",
      " 8 | 8 page with list: [=>=>=>=>=>=>=>=>=>=>=>=>=>=>=>=>=>=>=>=>=>=>=>=>=>=>=>=>] 100% | Count of all parsed: 221. Progress ratio: 15 %. Average price: 151 049 642 rub\r\n",
      " 9 | 9 page with list: [=>=>=>=>=>=>=>=>=>=>=>=>=>=>=>=>=>=>=>=>=>=>=>=>=>=>=>=>] 100% | Count of all parsed: 248. Progress ratio: 16 %. Average price: 153 391 945 rub\r\n",
      " 10 | 10 page with list: [=>=>=>=>=>=>=>=>=>=>=>=>=>=>=>=>=>=>=>=>=>=>=>=>=>=>=>=>] 100% | Count of all parsed: 276. Progress ratio: 18 %. Average price: 155 420 521 rub\r\n",
      " 11 | 11 page with list: [=>=>=>=>=>=>=>=>=>=>=>=>=>=>=>=>=>=>=>=>=>=>=>=>=>=>=>=>] 100% | Count of all parsed: 304. Progress ratio: 20 %. Average price: 157 161 574 rub\r\n",
      " 12 | 12 page with list: [=>=>=>=>=>=>=>=>=>=>=>=>=>=>=>=>=>=>=>=>=>=>=>=>=>=>=>=>] 100% | Count of all parsed: 332. Progress ratio: 22 %. Average price: 159 645 279 rub\r\n",
      " 13 | 13 page with list: [=>=>=>=>=>=>=>=>=>=>=>=>=>=>=>=>=>=>=>=>=>=>=>=>=>=>=>=>] 100% | Count of all parsed: 360. Progress ratio: 23 %. Average price: 161 305 942 rub\r\n",
      " 14 | 14 page with list: [=>=>=>=>=>=>=>=>=>=>=>=>=>=>=>=>=>=>=>=>=>=>=>=>=>=>=>=>] 100% | Count of all parsed: 387. Progress ratio: 25 %. Average price: 162 634 277 rub\r\n",
      " 15 | 15 page with list: [=>=>=>=>=>=>=>=>=>=>=>=>=>=>=>=>=>=>=>=>=>=>=>=>=>=>=>=>] 100% | Count of all parsed: 415. Progress ratio: 27 %. Average price: 163 906 560 rub\r\n",
      " 16 | 16 page with list: [=>=>=>=>=>=>=>=>=>=>=>=>=>=>=>=>=>=>=>=>=>=>=>=>=>=>=>=>] 100% | Count of all parsed: 440. Progress ratio: 29 %. Average price: 164 602 703 rub\r\n",
      " 17 | 17 page with list: [=>=>=>=>=>=>=>=>=>=>=>=>=>=>=>=>=>=>=>=>=>=>=>=>=>=>=>=>] 100% | Count of all parsed: 464. Progress ratio: 30 %. Average price: 165 262 851 rub\r\n",
      " 18 | 18 page with list: [=>=>=>=>=>=>=>=>=>=>=>=>=>=>=>=>=>=>=>=>=>=>=>=>=>=>=>=>] 100% | Count of all parsed: 490. Progress ratio: 32 %. Average price: 165 966 582 rub\r\n",
      " 19 | 19 page with list: [=>=>=>=>=>=>=>=>=>=>=>=>=>=>=>=>=>=>=>=>=>=>=>=>=>=>=>=>] 100% | Count of all parsed: 515. Progress ratio: 33 %. Average price: 166 629 193 rub\r\n",
      " 20 | 20 page with list: [=>=>=>=>=>=>=>=>=>=>=>=>=>=>=>=>=>=>=>=>=>=>=>=>=>=>=>=>] 100% | Count of all parsed: 537. Progress ratio: 35 %. Average price: 167 202 950 rub\r\n",
      " 21 | 21 page with list: [=>=>=>=>=>=>=>=>=>=>=>=>=>=>=>=>=>=>=>=>=>=>=>=>=>=>=>=>] 100% | Count of all parsed: 563. Progress ratio: 36 %. Average price: 167 873 864 rub\r\n",
      " 22 | 22 page with list: [=>=>=>=>=>=>=>=>=>=>=>=>=>=>=>=>=>=>=>=>=>=>=>=>=>=>=>=>] 100% | Count of all parsed: 586. Progress ratio: 38 %. Average price: 168 462 673 rub\r\n",
      " 23 | 23 page with list: [=>=>=>=>=>=>=>=>=>=>=>=>=>=>=>=>=>=>=>=>=>=>=>=>=>=>=>=>] 100% | Count of all parsed: 608. Progress ratio: 39 %. Average price: 169 036 411 rub\r\n",
      " 24 | 24 page with list: [=>=>=>=>=>=>=>=>=>=>=>=>=>=>=>=>=>=>=>=>=>=>=>=>=>=>=>=>] 100% | Count of all parsed: 633. Progress ratio: 41 %. Average price: 169 709 744 rub\r\n",
      " 25 | 25 page with list: [=>=>=>=>=>=>=>=>=>=>=>=>=>=>=>=>=>=>=>=>=>=>=>=>=>=>=>=>] 100% | Count of all parsed: 658. Progress ratio: 42 %. Average price: 170 439 132 rub\r\n",
      " 26 | 26 page with list: [=>=>=>=>=>=>=>=>=>=>=>=>=>=>=>=>=>=>=>=>=>=>=>=>=>=>=>=>] 100% | Count of all parsed: 681. Progress ratio: 44 %. Average price: 171 212 592 rub\r\n",
      " 27 | 27 page with list: [=>=>=>=>=>=>=>=>=>=>=>=>=>=>=>=>=>=>=>=>=>=>=>=>=>=>=>=>] 100% | Count of all parsed: 704. Progress ratio: 45 %. Average price: 172 001 394 rub\r\n",
      " 28 | 28 page with list: [=>=>=>=>=>=>=>=>=>=>=>=>=>=>=>=>=>=>=>=>=>=>=>=>=>=>=>=>] 100% | Count of all parsed: 729. Progress ratio: 47 %. Average price: 172 962 435 rub\r\n",
      " 29 | 29 page with list: [=>=>=>=>=>=>=>=>=>=>=>=>=>=>=>=>=>=>=>=>=>=>=>=>=>=>=>=>] 100% | Count of all parsed: 755. Progress ratio: 49 %. Average price: 174 054 091 rub\r\n",
      " 30 | 30 page with list: [=>=>=>=>=>=>=>=>=>=>=>=>=>=>=>=>=>=>=>=>=>=>=>=>=>=>=>=>] 100% | Count of all parsed: 780. Progress ratio: 50 %. Average price: 175 170 324 rub\r\n",
      " 31 | 31 page with list: [=>=>=>=>=>=>=>=>=>=>=>=>=>=>=>=>=>=>=>=>=>=>=>=>=>=>=>=>] 100% | Count of all parsed: 806. Progress ratio: 52 %. Average price: 176 389 836 rub\r\n",
      " 32 | 32 page with list: [=>=>=>=>=>=>=>=>=>=>=>=>=>=>=>=>=>=>=>=>=>=>=>=>=>=>=>=>] 100% | Count of all parsed: 833. Progress ratio: 54 %. Average price: 177 739 607 rub\r\n",
      " 33 | 33 page with list: [=>=>=>=>=>=>=>=>=>=>=>=>=>=>=>=>=>=>=>=>=>=>=>=>=>=>=>=>] 100% | Count of all parsed: 858. Progress ratio: 55 %. Average price: 179 148 273 rub\r\n",
      " 34 | 34 page with list: [=>=>=>=>=>=>=>=>=>=>=>=>=>=>=>=>=>=>=>=>=>=>=>=>=>=>=>=>] 100% | Count of all parsed: 885. Progress ratio: 57 %. Average price: 180 544 648 rub\r\n",
      " 35 | 35 page with list: [=>=>=>=>=>=>=>=>=>=>=>=>=>=>=>=>=>=>=>=>=>=>=>=>=>=>=>=>] 100% | Count of all parsed: 913. Progress ratio: 59 %. Average price: 180 926 356 rub\r\n",
      " 36 | 36 page with list: [=>=>=>=>=>=>=>=>=>=>=>=>=>=>=>=>=>=>=>=>=>=>=>=>=>=>=>=>] 100% | Count of all parsed: 941. Progress ratio: 61 %. Average price: 181 365 338 rub\r\n",
      " 37 | 37 page with list: [=>=>=>=>=>=>=>=>=>=>=>=>=>=>=>=>=>=>=>=>=>=>=>=>=>=>=>=>] 100% | Count of all parsed: 969. Progress ratio: 62 %. Average price: 181 864 984 rub\r\n",
      " 38 | 38 page with list: [=>=>=>=>=>=>=>=>=>=>=>=>=>=>=>=>=>=>=>=>=>=>=>=>=>=>=>=>] 100% | Count of all parsed: 997. Progress ratio: 64 %. Average price: 182 467 272 rub\r\n",
      " 39 | 39 page with list: [=>=>=>=>=>=>=>=>=>=>=>=>=>=>=>=>=>=>=>=>=>=>=>=>=>=>=>=>] 100% | Count of all parsed: 1025. Progress ratio: 66 %. Average price: 183 326 853 rub\r\n",
      " 40 | 40 page with list: [=>=>=>=>=>=>=>=>=>=>=>=>=>=>=>=>=>=>=>=>=>=>=>=>=>=>=>=>] 100% | Count of all parsed: 1053. Progress ratio: 68 %. Average price: 183 724 507 rub\r\n",
      " 41 | 41 page with list: [=>=>=>=>=>=>=>=>=>=>=>=>=>=>=>=>=>=>=>=>=>=>=>=>=>=>=>=>] 100% | Count of all parsed: 1081. Progress ratio: 69 %. Average price: 183 934 823 rub\r\n",
      " 42 | 42 page with list: [=>=>=>=>=>=>=>=>=>=>=>=>=>=>=>=>=>=>=>=>=>=>=>=>=>=>=>=>] 100% | Count of all parsed: 1109. Progress ratio: 71 %. Average price: 184 166 802 rub\r\n",
      " 43 | 43 page with list: [=>=>=>=>=>=>=>=>=>=>=>=>=>=>=>=>=>=>=>=>=>=>=>=>=>=>=>=>] 100% | Count of all parsed: 1137. Progress ratio: 73 %. Average price: 184 408 325 rub\r\n",
      " 44 | 44 page with list: [=>=>=>=>=>=>=>=>=>=>=>=>=>=>=>=>=>=>=>=>=>=>=>=>=>=>=>=>] 100% | Count of all parsed: 1165. Progress ratio: 75 %. Average price: 184 651 426 rub\r\n",
      " 45 | 45 page with list: [=>=>=>=>=>=>=>=>=>=>=>=>=>=>=>=>=>=>=>=>=>=>=>=>=>=>=>=>] 100% | Count of all parsed: 1193. Progress ratio: 77 %. Average price: 184 894 495 rub\r\n",
      " 46 | 46 page with list: [=>=>=>=>=>=>=>=>=>=>=>=>=>=>=>=>=>=>=>=>=>=>=>=>=>=>=>=>] 100% | Count of all parsed: 1221. Progress ratio: 78 %. Average price: 185 137 028 rub\r\n",
      " 47 | 47 page with list: [=>=>=>=>=>=>=>=>=>=>=>=>=>=>=>=>=>=>=>=>=>=>=>=>=>=>=>=>] 100% | Count of all parsed: 1249. Progress ratio: 80 %. Average price: 185 378 910 rub\r\n",
      " 48 | 48 page with list: [=>=>=>=>=>=>=>=>=>=>=>=>=>=>=>=>=>=>=>=>=>=>=>=>=>=>=>=>] 100% | Count of all parsed: 1277. Progress ratio: 82 %. Average price: 185 620 017 rub\r\n",
      " 49 | 49 page with list: [=>=>=>=>=>=>=>=>=>=>=>=>=>=>=>=>=>=>=>=>=>=>=>=>=>=>=>=>] 100% | Count of all parsed: 1305. Progress ratio: 84 %. Average price: 185 858 987 rub\r\n",
      " 50 | 50 page with list: [=>=>=>=>=>=>=>=>=>=>=>=>=>=>=>=>=>=>=>=>=>=>=>=>=>=>=>=>] 100% | Count of all parsed: 1333. Progress ratio: 86 %. Average price: 186 098 555 rub\r\n",
      " 51 | 51 page with list: [=>=>=>=>=>=>=>=>=>=>=>=>=>=>=>=>=>=>=>=>=>=>=>=>=>=>=>=>] 100% | Count of all parsed: 1361. Progress ratio: 87 %. Average price: 186 336 069 rub\r\n",
      " 52 | 52 page with list: [=>=>=>=>=>=>=>=>=>=>=>=>=>=>=>=>=>=>=>=>=>=>=>=>=>=>=>=>] 100% | Count of all parsed: 1389. Progress ratio: 89 %. Average price: 186 570 411 rub\r\n",
      " 53 | 53 page with list: [=>=>=>=>=>=>=>=>=>=>=>=>=>=>=>=>=>=>=>=>=>=>=>=>=>=>=>=>] 100% | Count of all parsed: 1417. Progress ratio: 91 %. Average price: 186 804 361 rub\r\n",
      " 54 | 54 page with list: [=>=>=>=>=>=>=>=>=>=>=>=>=>=>=>=>=>=>=>=>=>=>=>=>=>] 100% | Count of all parsed: 1441. Progress ratio: 103 %. Average price: 187 000 598 rub\r\n",
      " 55 | 55 page with list: [=>=>=>=>=>=>=>=>=>=>=>=>=>=>=>=>=>=>=>=>=>=>=>=>=>=>=>=>] 100% | Count of all parsed: 1441. Progress ratio: 92 %. Average price: 187 000 598 rub\r\n",
      " 56 | 56 page with list: [=>=>=>=>=>=>=>=>=>=>=>=>=>=>=>=>=>=>=>=>=>=>=>=>=>=>=>=>] 100% | Count of all parsed: 1441. Progress ratio: 92 %. Average price: 187 000 598 rub\r\n",
      "\n",
      "The collection of information from the pages with list of offers is completed\n",
      "Total number of parsed offers: 1441. \n"
     ]
    }
   ],
   "source": [
    "data_log_2 = moscow_parser.get_flats(\n",
    "    deal_type=\"sale\",\n",
    "    rooms = 2,\n",
    "    additional_settings={\n",
    "        \"start_page\":1,\n",
    "        \"end_page\": 56,\n",
    "        \"have_loggia\":True\n",
    "    }\n",
    ")"
   ],
   "metadata": {
    "collapsed": false,
    "ExecuteTime": {
     "end_time": "2024-05-10T19:24:09.720007100Z",
     "start_time": "2024-05-10T19:17:40.991925100Z"
    }
   },
   "id": "12b41ef8d4ef576b",
   "execution_count": 56
  },
  {
   "cell_type": "code",
   "outputs": [
    {
     "name": "stdout",
     "output_type": "stream",
     "text": [
      "\n",
      "                              Preparing to collect information from pages..\n",
      "The page from which the collection of information begins: \n",
      " https://cian.ru/cat.php?engine_version=2&p=1&with_neighbors=0&region=1&deal_type=sale&offer_type=flat&room3=1&loggia=1\n",
      "\n",
      "Collecting information from pages with list of offers\n",
      " 1 | 1 page with list: [=>=>=>=>=>=>=>=>=>=>=>=>=>=>=>=>=>=>=>=>=>=>=>=>=>=>=>=>] 100% | Count of all parsed: 28. Progress ratio: 2 %. Average price: 252 378 704 rub\r\n",
      " 2 | 2 page with list: [=>=>=>=>=>=>=>=>=>=>=>=>=>=>=>=>=>=>=>=>=>=>=>=>=>=>=>=>] 100% | Count of all parsed: 56. Progress ratio: 4 %. Average price: 277 437 345 rub\r\n",
      " 3 | 3 page with list: [=>=>=>=>=>=>=>=>=>=>=>=>=>=>=>=>=>=>=>=>=>=>=>=>=>=>=>=>] 100% | Count of all parsed: 84. Progress ratio: 6 %. Average price: 288 316 835 rub\r\n",
      " 4 | 4 page with list: [=>=>=>=>=>=>=>=>=>=>=>=>=>=>=>=>=>=>=>=>=>=>=>=>=>=>=>=>] 100% | Count of all parsed: 112. Progress ratio: 8 %. Average price: 297 818 062 rub\r\n",
      " 5 | 5 page with list: [=>=>=>=>=>=>=>=>=>=>=>=>=>=>=>=>=>=>=>=>=>=>=>=>=>=>=>=>] 100% | Count of all parsed: 140. Progress ratio: 9 %. Average price: 309 081 806 rub\r\n",
      " 6 | 6 page with list: [=>=>=>=>=>=>=>=>=>=>=>=>=>=>=>=>=>=>=>=>=>=>=>=>=>=>=>=>] 100% | Count of all parsed: 168. Progress ratio: 11 %. Average price: 316 124 614 rub\r\n",
      " 7 | 7 page with list: [=>=>=>=>=>=>=>=>=>=>=>=>=>=>=>=>=>=>=>=>=>=>=>=>=>=>=>=>] 100% | Count of all parsed: 196. Progress ratio: 13 %. Average price: 322 739 460 rub\r\n",
      " 8 | 8 page with list: [=>=>=>=>=>=>=>=>=>=>=>=>=>=>=>=>=>=>=>=>=>=>=>=>=>=>=>=>] 100% | Count of all parsed: 222. Progress ratio: 15 %. Average price: 326 267 379 rub\r\n",
      " 9 | 9 page with list: [=>=>=>=>=>=>=>=>=>=>=>=>=>=>=>=>=>=>=>=>=>=>=>=>=>=>=>=>] 100% | Count of all parsed: 250. Progress ratio: 16 %. Average price: 330 101 443 rub\r\n",
      " 10 | 10 page with list: [=>=>=>=>=>=>=>=>=>=>=>=>=>=>=>=>=>=>=>=>=>=>=>=>=>=>=>=>] 100% | Count of all parsed: 278. Progress ratio: 18 %. Average price: 332 724 607 rub\r\n",
      " 11 | 11 page with list: [=>=>=>=>=>=>=>=>=>=>=>=>=>=>=>=>=>=>=>=>=>=>=>=>=>=>=>=>] 100% | Count of all parsed: 306. Progress ratio: 20 %. Average price: 335 834 254 rub\r\n",
      " 12 | 12 page with list: [=>=>=>=>=>=>=>=>=>=>=>=>=>=>=>=>=>=>=>=>=>=>=>=>=>=>=>=>] 100% | Count of all parsed: 334. Progress ratio: 22 %. Average price: 338 337 983 rub\r\n",
      " 13 | 13 page with list: [=>=>=>=>=>=>=>=>=>=>=>=>=>=>=>=>=>=>=>=>=>=>=>=>=>=>=>=>] 100% | Count of all parsed: 362. Progress ratio: 24 %. Average price: 342 097 273 rub\r\n",
      " 14 | 14 page with list: [=>=>=>=>=>=>=>=>=>=>=>=>=>=>=>=>=>=>=>=>=>=>=>=>=>=>=>=>] 100% | Count of all parsed: 390. Progress ratio: 25 %. Average price: 345 565 585 rub\r\n",
      " 15 | 15 page with list: [=>=>=>=>=>=>=>=>=>=>=>=>=>=>=>=>=>=>=>=>=>=>=>=>=>=>=>=>] 100% | Count of all parsed: 418. Progress ratio: 27 %. Average price: 348 338 873 rub\r\n",
      " 16 | 16 page with list: [=>=>=>=>=>=>=>=>=>=>=>=>=>=>=>=>=>=>=>=>=>=>=>=>=>=>=>=>] 100% | Count of all parsed: 444. Progress ratio: 29 %. Average price: 349 342 027 rub\r\n",
      " 17 | 17 page with list: [=>=>=>=>=>=>=>=>=>=>=>=>=>=>=>=>=>=>=>=>=>=>=>=>=>=>=>=>] 100% | Count of all parsed: 467. Progress ratio: 30 %. Average price: 350 228 001 rub\r\n",
      " 18 | 18 page with list: [=>=>=>=>=>=>=>=>=>=>=>=>=>=>=>=>=>=>=>=>=>=>=>=>=>=>=>=>] 100% | Count of all parsed: 493. Progress ratio: 32 %. Average price: 351 236 055 rub\r\n",
      " 19 | 19 page with list: [=>=>=>=>=>=>=>=>=>=>=>=>=>=>=>=>=>=>=>=>=>=>=>=>=>=>=>=>] 100% | Count of all parsed: 517. Progress ratio: 33 %. Average price: 352 163 552 rub\r\n",
      " 20 | 20 page with list: [=>=>=>=>=>=>=>=>=>=>=>=>=>=>=>=>=>=>=>=>=>=>=>=>=>=>=>=>] 100% | Count of all parsed: 540. Progress ratio: 35 %. Average price: 353 034 037 rub\r\n",
      " 21 | 21 page with list: [=>=>=>=>=>=>=>=>=>=>=>=>=>=>=>=>=>=>=>=>=>=>=>=>=>=>=>=>] 100% | Count of all parsed: 565. Progress ratio: 37 %. Average price: 354 014 994 rub\r\n",
      " 22 | 22 page with list: [=>=>=>=>=>=>=>=>=>=>=>=>=>=>=>=>=>=>=>=>=>=>=>=>=>=>=>=>] 100% | Count of all parsed: 590. Progress ratio: 38 %. Average price: 355 253 904 rub\r\n",
      " 23 | 23 page with list: [=>=>=>=>=>=>=>=>=>=>=>=>=>=>=>=>=>=>=>=>=>=>=>=>=>=>=>=>] 100% | Count of all parsed: 611. Progress ratio: 39 %. Average price: 356 588 438 rub\r\n",
      " 24 | 24 page with list: [=>=>=>=>=>=>=>=>=>=>=>=>=>=>=>=>=>=>=>=>=>=>=>=>=>=>=>=>] 100% | Count of all parsed: 636. Progress ratio: 41 %. Average price: 358 469 318 rub\r\n",
      " 25 | 25 page with list: [=>=>=>=>=>=>=>=>=>=>=>=>=>=>=>=>=>=>=>=>=>=>=>=>=>=>=>=>] 100% | Count of all parsed: 661. Progress ratio: 43 %. Average price: 360 390 019 rub\r\n",
      " 26 | 26 page with list: [=>=>=>=>=>=>=>=>=>=>=>=>=>=>=>=>=>=>=>=>=>=>=>=>=>=>=>=>] 100% | Count of all parsed: 685. Progress ratio: 44 %. Average price: 362 602 771 rub\r\n",
      " 27 | 27 page with list: [=>=>=>=>=>=>=>=>=>=>=>=>=>=>=>=>=>=>=>=>=>=>=>=>=>=>=>=>] 100% | Count of all parsed: 710. Progress ratio: 46 %. Average price: 365 501 787 rub\r\n",
      " 28 | 28 page with list: [=>=>=>=>=>=>=>=>=>=>=>=>=>=>=>=>=>=>=>=>=>=>=>=>=>=>=>=>] 100% | Count of all parsed: 737. Progress ratio: 48 %. Average price: 370 363 264 rub\r\n",
      " 29 | 29 page with list: [=>=>=>=>=>=>=>=>=>=>=>=>=>=>=>=>=>=>=>=>=>=>=>=>=>=>=>=>] 100% | Count of all parsed: 765. Progress ratio: 49 %. Average price: 375 460 753 rub\r\n",
      " 30 | 30 page with list: [=>=>=>=>=>=>=>=>=>=>=>=>=>=>=>=>=>=>=>=>=>=>=>=>=>=>=>=>] 100% | Count of all parsed: 793. Progress ratio: 51 %. Average price: 376 063 838 rub\r\n",
      " 31 | 31 page with list: [=>=>=>=>=>=>=>=>=>=>=>=>=>=>=>=>=>=>=>=>=>=>=>=>=>=>=>=>] 100% | Count of all parsed: 821. Progress ratio: 53 %. Average price: 376 771 971 rub\r\n",
      " 32 | 32 page with list: [=>=>=>=>=>=>=>=>=>=>=>=>=>=>=>=>=>=>=>=>=>=>=>=>=>=>=>=>] 100% | Count of all parsed: 849. Progress ratio: 55 %. Average price: 377 662 674 rub\r\n",
      " 33 | 33 page with list: [=>=>=>=>=>=>=>=>=>=>=>=>=>=>=>=>=>=>=>=>=>=>=>=>=>=>=>=>] 100% | Count of all parsed: 877. Progress ratio: 56 %. Average price: 378 988 195 rub\r\n",
      " 34 | 34 page with list: [=>=>=>=>=>=>=>=>=>=>=>=>=>=>=>=>=>=>=>=>=>=>=>=>=>=>=>=>] 100% | Count of all parsed: 905. Progress ratio: 58 %. Average price: 382 302 906 rub\r\n",
      " 35 | 35 page with list: [=>=>=>=>=>=>=>=>=>=>=>=>=>=>=>=>=>=>=>=>=>=>=>=>=>=>=>=>] 100% | Count of all parsed: 933. Progress ratio: 60 %. Average price: 382 511 901 rub\r\n",
      " 36 | 36 page with list: [=>=>=>=>=>=>=>=>=>=>=>=>=>=>=>=>=>=>=>=>=>=>=>=>=>=>=>] 100% | Count of all parsed: 960. Progress ratio: 64 %. Average price: 382 819 892 rub\r\n",
      " 37 | 37 page with list: [=>=>=>=>=>=>=>=>=>=>=>=>=>=>=>=>=>=>=>=>=>=>=>=>=>=>=>=>] 100% | Count of all parsed: 988. Progress ratio: 64 %. Average price: 383 151 730 rub\r\n",
      " 38 | 38 page with list: [=>=>=>=>=>=>=>=>=>=>=>=>=>=>=>=>=>=>=>=>=>=>=>=>=>=>=>=>] 100% | Count of all parsed: 1016. Progress ratio: 65 %. Average price: 383 489 789 rub\r\n",
      " 39 | 39 page with list: [=>=>=>=>=>=>=>=>=>=>=>=>=>=>=>=>=>=>=>=>=>=>=>=>=>=>=>=>] 100% | Count of all parsed: 1044. Progress ratio: 67 %. Average price: 383 828 808 rub\r\n",
      " 40 | 40 page with list: [=>=>=>=>=>=>=>=>=>=>=>=>=>=>=>=>=>=>=>=>=>=>=>=>=>=>=>=>] 100% | Count of all parsed: 1072. Progress ratio: 69 %. Average price: 384 167 887 rub\r\n",
      " 41 | 41 page with list: [=>=>=>=>=>=>=>=>=>=>=>=>=>=>=>=>=>=>=>=>=>=>=>=>=>=>=>=>] 100% | Count of all parsed: 1100. Progress ratio: 71 %. Average price: 384 509 735 rub\r\n",
      " 42 | 42 page with list: [=>=>=>=>=>=>=>=>=>=>=>=>=>=>=>=>=>=>=>=>=>=>=>=>=>=>=>] 100% | Count of all parsed: 1127. Progress ratio: 75 %. Average price: 384 836 862 rub\r\n",
      " 43 | 43 page with list: [=>=>=>=>=>=>=>=>=>=>=>=>=>=>=>=>=>=>=>=>=>=>=>=>=>=>=>=>] 100% | Count of all parsed: 1155. Progress ratio: 74 %. Average price: 385 174 526 rub\r\n",
      " 44 | 44 page with list: [=>=>=>=>=>=>=>=>=>=>=>=>=>=>=>=>=>=>=>=>=>=>=>=>=>=>=>=>] 100% | Count of all parsed: 1183. Progress ratio: 76 %. Average price: 385 509 037 rub\r\n",
      " 45 | 45 page with list: [=>=>=>=>=>=>=>=>=>=>=>=>=>=>=>=>=>=>=>=>=>=>=>=>=>=>=>=>] 100% | Count of all parsed: 1211. Progress ratio: 78 %. Average price: 385 840 101 rub\r\n",
      " 46 | 46 page with list: [=>=>=>=>=>=>=>=>=>=>=>=>=>=>=>=>=>=>=>=>=>=>=>=>=>=>=>] 100% | Count of all parsed: 1238. Progress ratio: 82 %. Average price: 386 158 907 rub\r\n",
      " 47 | 47 page with list: [=>=>=>=>=>=>=>=>=>=>=>=>=>=>=>=>=>=>=>=>=>=>=>=>=>=>=>=>] 100% | Count of all parsed: 1266. Progress ratio: 81 %. Average price: 386 485 624 rub\r\n",
      " 48 | 48 page with list: [=>=>=>=>=>=>=>=>=>=>=>=>=>=>=>=>=>=>=>=>=>=>=>=>=>=>=>=>] 100% | Count of all parsed: 1294. Progress ratio: 83 %. Average price: 386 811 316 rub\r\n",
      " 49 | 49 page with list: [=>=>=>=>=>=>=>=>=>=>=>=>=>=>=>=>=>=>=>=>=>=>=>=>=>=>=>=>] 100% | Count of all parsed: 1322. Progress ratio: 85 %. Average price: 387 133 581 rub\r\n",
      " 50 | 50 page with list: [=>=>=>=>=>=>=>=>=>=>=>=>=>=>=>=>=>=>=>=>=>=>=>=>=>=>=>=>] 100% | Count of all parsed: 1350. Progress ratio: 87 %. Average price: 387 456 247 rub\r\n",
      " 51 | 51 page with list: [=>=>=>=>=>=>=>=>=>=>=>=>=>=>=>=>=>=>=>=>=>=>=>=>=>=>=>=>] 100% | Count of all parsed: 1378. Progress ratio: 88 %. Average price: 387 775 868 rub\r\n",
      " 52 | 52 page with list: [=>=>=>=>=>=>=>=>=>=>=>=>=>=>=>=>=>=>=>=>=>=>=>=>=>=>=>] 100% | Count of all parsed: 1405. Progress ratio: 93 %. Average price: 388 083 481 rub\r\n",
      " 53 | 53 page with list: [=>=>=>=>=>=>=>=>=>=>=>=>=>=>=>=>=>=>=>=>=>=>=>=>=>=>=>=>] 100% | Count of all parsed: 1433. Progress ratio: 92 %. Average price: 388 398 698 rub\r\n",
      " 54 | 54 page with list: [=>=>=>=>=>=>=>=>=>=>=>=>=>=>=>=>=>=>=>=>=>=>=>=>=>] 100% | Count of all parsed: 1457. Progress ratio: 105 %. Average price: 388 657 537 rub\r\n",
      "\n",
      "Exception: 429 Client Error: Too Many Requests for url: https://www.cian.ru/cat.php?deal_type=sale&engine_version=2&loggia=1&offer_type=flat&p=1&region=1&room3=1&with_neighbors=0\n",
      "The collection of information from the pages with ending parse on 55 page...\n",
      "\n",
      " 56 | 56 page with list: [=>=>=>=>=>=>=>=>=>=>=>=>=>=>=>=>=>=>=>=>=>=>=>=>=>=>=>=>] 100% | Count of all parsed: 1457. Progress ratio: 93 %. Average price: 388 657 537 rub\r\n",
      "\n",
      "The collection of information from the pages with list of offers is completed\n",
      "Total number of parsed offers: 1457. \n"
     ]
    }
   ],
   "source": [
    "data_log_3 = moscow_parser.get_flats(\n",
    "    deal_type=\"sale\",\n",
    "    rooms = 3,\n",
    "    additional_settings={\n",
    "        \"start_page\":1,\n",
    "        \"end_page\": 56,\n",
    "        \"have_loggia\":True\n",
    "    }\n",
    ")"
   ],
   "metadata": {
    "collapsed": false,
    "ExecuteTime": {
     "end_time": "2024-05-10T19:33:33.346804200Z",
     "start_time": "2024-05-10T19:24:17.402343200Z"
    }
   },
   "id": "c1f460e49f213917",
   "execution_count": 57
  },
  {
   "cell_type": "code",
   "outputs": [
    {
     "data": {
      "text/plain": "             author        author_type  \\\n0  Трансстройинвест          developer   \n1         ФСК Агент  real_estate_agent   \n2     Группа Родина          developer   \n3         SITRealty  real_estate_agent   \n4   Новые Ватутинки          developer   \n\n                                        url location deal_type  \\\n0  https://www.cian.ru/sale/flat/299589652/   Москва      sale   \n1  https://www.cian.ru/sale/flat/298210838/   Москва      sale   \n2  https://www.cian.ru/sale/flat/293200764/   Москва      sale   \n3  https://www.cian.ru/sale/flat/300609717/   Москва      sale   \n4  https://www.cian.ru/sale/flat/301563956/   Москва      sale   \n\n  accommodation_type  floor  floors_count  rooms_count  total_meters  \\\n0               flat      2            24            1          43.5   \n1               flat     13            44            1          60.9   \n2               flat      6            13            1          33.9   \n3               flat      4             7            1          40.0   \n4               flat      7            12            1          43.8   \n\n   price_per_month  commissions       price             district  \\\n0               -1            0  17768630.0  Очаково-Матвеевское   \n1               -1            0  25500000.0    Хорошево-Мневники   \n2               -1            0  11048000.0                        \n3               -1            0   9850000.0                        \n4               -1            0  10218540.0                        \n\n                 street house_number       underground  \\\n0  Мичуринский проспект          72А           Озёрная   \n1                  к2/2         к2/2          Шелепиха   \n2       1-я Ватутинская         14к1          Ольховая   \n3        Медовая Долина            2            Санино   \n4                                5/2  Аэропорт Внуково   \n\n              residential_complex  \n0                              ОМ  \n1                  Сидней Сити ЖК  \n2         Russian Design District  \n3           Баркли Медовая долина  \n4  Новые Ватутинки, мкр. Заречный  ",
      "text/html": "<div>\n<style scoped>\n    .dataframe tbody tr th:only-of-type {\n        vertical-align: middle;\n    }\n\n    .dataframe tbody tr th {\n        vertical-align: top;\n    }\n\n    .dataframe thead th {\n        text-align: right;\n    }\n</style>\n<table border=\"1\" class=\"dataframe\">\n  <thead>\n    <tr style=\"text-align: right;\">\n      <th></th>\n      <th>author</th>\n      <th>author_type</th>\n      <th>url</th>\n      <th>location</th>\n      <th>deal_type</th>\n      <th>accommodation_type</th>\n      <th>floor</th>\n      <th>floors_count</th>\n      <th>rooms_count</th>\n      <th>total_meters</th>\n      <th>price_per_month</th>\n      <th>commissions</th>\n      <th>price</th>\n      <th>district</th>\n      <th>street</th>\n      <th>house_number</th>\n      <th>underground</th>\n      <th>residential_complex</th>\n    </tr>\n  </thead>\n  <tbody>\n    <tr>\n      <th>0</th>\n      <td>Трансстройинвест</td>\n      <td>developer</td>\n      <td>https://www.cian.ru/sale/flat/299589652/</td>\n      <td>Москва</td>\n      <td>sale</td>\n      <td>flat</td>\n      <td>2</td>\n      <td>24</td>\n      <td>1</td>\n      <td>43.5</td>\n      <td>-1</td>\n      <td>0</td>\n      <td>17768630.0</td>\n      <td>Очаково-Матвеевское</td>\n      <td>Мичуринский проспект</td>\n      <td>72А</td>\n      <td>Озёрная</td>\n      <td>ОМ</td>\n    </tr>\n    <tr>\n      <th>1</th>\n      <td>ФСК Агент</td>\n      <td>real_estate_agent</td>\n      <td>https://www.cian.ru/sale/flat/298210838/</td>\n      <td>Москва</td>\n      <td>sale</td>\n      <td>flat</td>\n      <td>13</td>\n      <td>44</td>\n      <td>1</td>\n      <td>60.9</td>\n      <td>-1</td>\n      <td>0</td>\n      <td>25500000.0</td>\n      <td>Хорошево-Мневники</td>\n      <td>к2/2</td>\n      <td>к2/2</td>\n      <td>Шелепиха</td>\n      <td>Сидней Сити ЖК</td>\n    </tr>\n    <tr>\n      <th>2</th>\n      <td>Группа Родина</td>\n      <td>developer</td>\n      <td>https://www.cian.ru/sale/flat/293200764/</td>\n      <td>Москва</td>\n      <td>sale</td>\n      <td>flat</td>\n      <td>6</td>\n      <td>13</td>\n      <td>1</td>\n      <td>33.9</td>\n      <td>-1</td>\n      <td>0</td>\n      <td>11048000.0</td>\n      <td></td>\n      <td>1-я Ватутинская</td>\n      <td>14к1</td>\n      <td>Ольховая</td>\n      <td>Russian Design District</td>\n    </tr>\n    <tr>\n      <th>3</th>\n      <td>SITRealty</td>\n      <td>real_estate_agent</td>\n      <td>https://www.cian.ru/sale/flat/300609717/</td>\n      <td>Москва</td>\n      <td>sale</td>\n      <td>flat</td>\n      <td>4</td>\n      <td>7</td>\n      <td>1</td>\n      <td>40.0</td>\n      <td>-1</td>\n      <td>0</td>\n      <td>9850000.0</td>\n      <td></td>\n      <td>Медовая Долина</td>\n      <td>2</td>\n      <td>Санино</td>\n      <td>Баркли Медовая долина</td>\n    </tr>\n    <tr>\n      <th>4</th>\n      <td>Новые Ватутинки</td>\n      <td>developer</td>\n      <td>https://www.cian.ru/sale/flat/301563956/</td>\n      <td>Москва</td>\n      <td>sale</td>\n      <td>flat</td>\n      <td>7</td>\n      <td>12</td>\n      <td>1</td>\n      <td>43.8</td>\n      <td>-1</td>\n      <td>0</td>\n      <td>10218540.0</td>\n      <td></td>\n      <td></td>\n      <td>5/2</td>\n      <td>Аэропорт Внуково</td>\n      <td>Новые Ватутинки, мкр. Заречный</td>\n    </tr>\n  </tbody>\n</table>\n</div>"
     },
     "execution_count": 61,
     "metadata": {},
     "output_type": "execute_result"
    }
   ],
   "source": [
    "df_log_1 = pd.DataFrame(data_log_1)\n",
    "df_log_2 = pd.DataFrame(data_log_2)\n",
    "df_log_3 = pd.DataFrame(data_log_1)\n",
    "\n",
    "df_log = pd.concat([df_log_1, df_log_2, df_log_3], axis=0)\n",
    "df_log.head()"
   ],
   "metadata": {
    "collapsed": false,
    "ExecuteTime": {
     "end_time": "2024-05-10T19:39:51.133081100Z",
     "start_time": "2024-05-10T19:39:51.027312300Z"
    }
   },
   "id": "5d76da70e0b204c7",
   "execution_count": 61
  },
  {
   "cell_type": "code",
   "outputs": [
    {
     "data": {
      "text/plain": "(4397, 18)"
     },
     "execution_count": 70,
     "metadata": {},
     "output_type": "execute_result"
    }
   ],
   "source": [
    "df_log.shape"
   ],
   "metadata": {
    "collapsed": false,
    "ExecuteTime": {
     "end_time": "2024-05-10T22:20:47.860312800Z",
     "start_time": "2024-05-10T22:20:47.855228400Z"
    }
   },
   "id": "7a2093b1b9ae6a3d",
   "execution_count": 70
  },
  {
   "cell_type": "markdown",
   "source": [
    "Загрузим собранные данные в виде csv-файлов для удобства дальнейшей работы."
   ],
   "metadata": {
    "collapsed": false
   },
   "id": "e5a5cfe923bb91aa"
  },
  {
   "cell_type": "code",
   "outputs": [],
   "source": [
    "df_log.to_csv('flats_with_loggia.csv', index=False)\n",
    "df_nolog.to_csv('flats_no_loggia.csv', index=False)"
   ],
   "metadata": {
    "collapsed": false,
    "ExecuteTime": {
     "end_time": "2024-05-10T21:43:58.231301900Z",
     "start_time": "2024-05-10T21:43:58.158161400Z"
    }
   },
   "id": "87a93581bf09018e",
   "execution_count": 65
  }
 ],
 "metadata": {
  "kernelspec": {
   "display_name": "Python 3",
   "language": "python",
   "name": "python3"
  },
  "language_info": {
   "codemirror_mode": {
    "name": "ipython",
    "version": 2
   },
   "file_extension": ".py",
   "mimetype": "text/x-python",
   "name": "python",
   "nbconvert_exporter": "python",
   "pygments_lexer": "ipython2",
   "version": "2.7.6"
  }
 },
 "nbformat": 4,
 "nbformat_minor": 5
}
